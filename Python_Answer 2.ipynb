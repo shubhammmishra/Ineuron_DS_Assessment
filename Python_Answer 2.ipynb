{
 "cells": [
  {
   "cell_type": "code",
   "execution_count": 17,
   "id": "e296d3e9",
   "metadata": {},
   "outputs": [],
   "source": [
    "def is_feasible(stalls, K, distance):\n",
    "    count = 1\n",
    "    last_position = stalls[0]\n",
    "    \n",
    "    for i in range(1, len(stalls)):\n",
    "        if stalls[i] - last_position >= distance:\n",
    "            count += 1\n",
    "            last_position = stalls[i]\n",
    "            \n",
    "        if count >= K:\n",
    "            return True\n",
    "    return False\n",
    "\n",
    "def largest_minimum_distance(stalls, K):\n",
    "    stalls.sort()\n",
    "    low = 1\n",
    "    high = stalls[-1] - stalls[0]\n",
    "    result = 0\n",
    "    \n",
    "    while low <= high:\n",
    "        mid = (low + high) // 2\n",
    "        \n",
    "        if is_feasible(stalls, K, mid):\n",
    "            result = mid\n",
    "            low = mid + 1\n",
    "        else:\n",
    "            high = mid - 1\n",
    "            \n",
    "    return result\n"
   ]
  },
  {
   "cell_type": "code",
   "execution_count": 18,
   "id": "cfbdea59",
   "metadata": {},
   "outputs": [
    {
     "name": "stdout",
     "output_type": "stream",
     "text": [
      "3\n"
     ]
    }
   ],
   "source": [
    "#Test\n",
    "stalls= [1,2,4,8,9]\n",
    "k= 3\n",
    "print(largest_minimum_distance(stalls,k))"
   ]
  },
  {
   "cell_type": "code",
   "execution_count": null,
   "id": "542d18c8",
   "metadata": {},
   "outputs": [],
   "source": []
  },
  {
   "cell_type": "code",
   "execution_count": null,
   "id": "e687aa81",
   "metadata": {},
   "outputs": [],
   "source": []
  }
 ],
 "metadata": {
  "kernelspec": {
   "display_name": "Python 3 (ipykernel)",
   "language": "python",
   "name": "python3"
  },
  "language_info": {
   "codemirror_mode": {
    "name": "ipython",
    "version": 3
   },
   "file_extension": ".py",
   "mimetype": "text/x-python",
   "name": "python",
   "nbconvert_exporter": "python",
   "pygments_lexer": "ipython3",
   "version": "3.10.13"
  }
 },
 "nbformat": 4,
 "nbformat_minor": 5
}
