{
 "cells": [
  {
   "cell_type": "code",
   "execution_count": 5,
   "id": "19bf69f8",
   "metadata": {
    "_cell_guid": "b1076dfc-b9ad-4769-8c92-a6c4dae69d19",
    "_uuid": "8f2839f25d086af736a60e9eeb907d3b93b6e0e5",
    "execution": {
     "iopub.execute_input": "2024-01-22T13:38:09.262455Z",
     "iopub.status.busy": "2024-01-22T13:38:09.261959Z",
     "iopub.status.idle": "2024-01-22T13:38:11.852176Z",
     "shell.execute_reply": "2024-01-22T13:38:11.850826Z"
    },
    "id": "19bf69f8",
    "papermill": {
     "duration": 2.622173,
     "end_time": "2024-01-22T13:38:11.855341",
     "exception": false,
     "start_time": "2024-01-22T13:38:09.233168",
     "status": "completed"
    },
    "tags": []
   },
   "outputs": [],
   "source": [
    "import warnings\n",
    "warnings.simplefilter(action='ignore', category=FutureWarning)\n",
    "\n",
    "import numpy as np\n",
    "import pandas as pd\n",
    "import seaborn as sns\n",
    "import matplotlib.pyplot as plt\n",
    "from sklearn.compose import ColumnTransformer\n",
    "from sklearn.pipeline import Pipeline\n",
    "from sklearn.metrics import r2_score, mean_absolute_error\n",
    "from sklearn.preprocessing import OneHotEncoder, StandardScaler\n",
    "from sklearn.svm import SVR\n",
    "from sklearn.model_selection import train_test_split, GridSearchCV"
   ]
  },
  {
   "cell_type": "code",
   "execution_count": 6,
   "id": "6020a53a",
   "metadata": {
    "execution": {
     "iopub.execute_input": "2024-01-22T13:38:11.911092Z",
     "iopub.status.busy": "2024-01-22T13:38:11.909945Z",
     "iopub.status.idle": "2024-01-22T13:38:11.998172Z",
     "shell.execute_reply": "2024-01-22T13:38:11.997036Z"
    },
    "id": "6020a53a",
    "outputId": "d42bfee9-22dd-4ef3-c35d-748b1f11d0fb",
    "papermill": {
     "duration": 0.119378,
     "end_time": "2024-01-22T13:38:12.000704",
     "exception": false,
     "start_time": "2024-01-22T13:38:11.881326",
     "status": "completed"
    },
    "tags": []
   },
   "outputs": [
    {
     "data": {
      "text/html": [
       "<div>\n",
       "<style scoped>\n",
       "    .dataframe tbody tr th:only-of-type {\n",
       "        vertical-align: middle;\n",
       "    }\n",
       "\n",
       "    .dataframe tbody tr th {\n",
       "        vertical-align: top;\n",
       "    }\n",
       "\n",
       "    .dataframe thead th {\n",
       "        text-align: right;\n",
       "    }\n",
       "</style>\n",
       "<table border=\"1\" class=\"dataframe\">\n",
       "  <thead>\n",
       "    <tr style=\"text-align: right;\">\n",
       "      <th></th>\n",
       "      <th>area_type</th>\n",
       "      <th>availability</th>\n",
       "      <th>location</th>\n",
       "      <th>size</th>\n",
       "      <th>society</th>\n",
       "      <th>total_sqft</th>\n",
       "      <th>bath</th>\n",
       "      <th>balcony</th>\n",
       "      <th>price</th>\n",
       "    </tr>\n",
       "  </thead>\n",
       "  <tbody>\n",
       "    <tr>\n",
       "      <th>0</th>\n",
       "      <td>Super built-up  Area</td>\n",
       "      <td>19-Dec</td>\n",
       "      <td>Electronic City Phase II</td>\n",
       "      <td>2 BHK</td>\n",
       "      <td>Coomee</td>\n",
       "      <td>1056</td>\n",
       "      <td>2.0</td>\n",
       "      <td>1.0</td>\n",
       "      <td>39.07</td>\n",
       "    </tr>\n",
       "    <tr>\n",
       "      <th>1</th>\n",
       "      <td>Plot  Area</td>\n",
       "      <td>Ready To Move</td>\n",
       "      <td>Chikka Tirupathi</td>\n",
       "      <td>4 Bedroom</td>\n",
       "      <td>Theanmp</td>\n",
       "      <td>2600</td>\n",
       "      <td>5.0</td>\n",
       "      <td>3.0</td>\n",
       "      <td>120.00</td>\n",
       "    </tr>\n",
       "    <tr>\n",
       "      <th>2</th>\n",
       "      <td>Built-up  Area</td>\n",
       "      <td>Ready To Move</td>\n",
       "      <td>Uttarahalli</td>\n",
       "      <td>3 BHK</td>\n",
       "      <td>NaN</td>\n",
       "      <td>1440</td>\n",
       "      <td>2.0</td>\n",
       "      <td>3.0</td>\n",
       "      <td>62.00</td>\n",
       "    </tr>\n",
       "    <tr>\n",
       "      <th>3</th>\n",
       "      <td>Super built-up  Area</td>\n",
       "      <td>Ready To Move</td>\n",
       "      <td>Lingadheeranahalli</td>\n",
       "      <td>3 BHK</td>\n",
       "      <td>Soiewre</td>\n",
       "      <td>1521</td>\n",
       "      <td>3.0</td>\n",
       "      <td>1.0</td>\n",
       "      <td>95.00</td>\n",
       "    </tr>\n",
       "    <tr>\n",
       "      <th>4</th>\n",
       "      <td>Super built-up  Area</td>\n",
       "      <td>Ready To Move</td>\n",
       "      <td>Kothanur</td>\n",
       "      <td>2 BHK</td>\n",
       "      <td>NaN</td>\n",
       "      <td>1200</td>\n",
       "      <td>2.0</td>\n",
       "      <td>1.0</td>\n",
       "      <td>51.00</td>\n",
       "    </tr>\n",
       "  </tbody>\n",
       "</table>\n",
       "</div>"
      ],
      "text/plain": [
       "              area_type   availability                  location       size  \\\n",
       "0  Super built-up  Area         19-Dec  Electronic City Phase II      2 BHK   \n",
       "1            Plot  Area  Ready To Move          Chikka Tirupathi  4 Bedroom   \n",
       "2        Built-up  Area  Ready To Move               Uttarahalli      3 BHK   \n",
       "3  Super built-up  Area  Ready To Move        Lingadheeranahalli      3 BHK   \n",
       "4  Super built-up  Area  Ready To Move                  Kothanur      2 BHK   \n",
       "\n",
       "   society total_sqft  bath  balcony   price  \n",
       "0  Coomee        1056   2.0      1.0   39.07  \n",
       "1  Theanmp       2600   5.0      3.0  120.00  \n",
       "2      NaN       1440   2.0      3.0   62.00  \n",
       "3  Soiewre       1521   3.0      1.0   95.00  \n",
       "4      NaN       1200   2.0      1.0   51.00  "
      ]
     },
     "execution_count": 6,
     "metadata": {},
     "output_type": "execute_result"
    }
   ],
   "source": [
    "df = pd.read_csv(\"Bengaluru_House_Data.csv\")\n",
    "df.head()"
   ]
  },
  {
   "cell_type": "code",
   "execution_count": 7,
   "id": "f5120f59",
   "metadata": {
    "execution": {
     "iopub.execute_input": "2024-01-22T13:38:12.054993Z",
     "iopub.status.busy": "2024-01-22T13:38:12.053893Z",
     "iopub.status.idle": "2024-01-22T13:38:12.090291Z",
     "shell.execute_reply": "2024-01-22T13:38:12.089196Z"
    },
    "id": "f5120f59",
    "outputId": "bf9379f6-a75e-4d41-9861-2b2885c19603",
    "papermill": {
     "duration": 0.066416,
     "end_time": "2024-01-22T13:38:12.093019",
     "exception": false,
     "start_time": "2024-01-22T13:38:12.026603",
     "status": "completed"
    },
    "tags": []
   },
   "outputs": [
    {
     "name": "stdout",
     "output_type": "stream",
     "text": [
      "<class 'pandas.core.frame.DataFrame'>\n",
      "RangeIndex: 13320 entries, 0 to 13319\n",
      "Data columns (total 9 columns):\n",
      " #   Column        Non-Null Count  Dtype  \n",
      "---  ------        --------------  -----  \n",
      " 0   area_type     13320 non-null  object \n",
      " 1   availability  13320 non-null  object \n",
      " 2   location      13319 non-null  object \n",
      " 3   size          13304 non-null  object \n",
      " 4   society       7818 non-null   object \n",
      " 5   total_sqft    13320 non-null  object \n",
      " 6   bath          13247 non-null  float64\n",
      " 7   balcony       12711 non-null  float64\n",
      " 8   price         13320 non-null  float64\n",
      "dtypes: float64(3), object(6)\n",
      "memory usage: 936.7+ KB\n"
     ]
    }
   ],
   "source": [
    "df.info()"
   ]
  },
  {
   "cell_type": "code",
   "execution_count": 8,
   "id": "897d213e",
   "metadata": {
    "execution": {
     "iopub.execute_input": "2024-01-22T13:38:12.147427Z",
     "iopub.status.busy": "2024-01-22T13:38:12.147039Z",
     "iopub.status.idle": "2024-01-22T13:38:12.171896Z",
     "shell.execute_reply": "2024-01-22T13:38:12.170734Z"
    },
    "id": "897d213e",
    "outputId": "120aa1ce-8cc5-4e89-dd50-841e3cd60390",
    "papermill": {
     "duration": 0.05496,
     "end_time": "2024-01-22T13:38:12.174315",
     "exception": false,
     "start_time": "2024-01-22T13:38:12.119355",
     "status": "completed"
    },
    "tags": []
   },
   "outputs": [
    {
     "data": {
      "text/plain": [
       "529"
      ]
     },
     "execution_count": 8,
     "metadata": {},
     "output_type": "execute_result"
    }
   ],
   "source": [
    "df.duplicated().sum()"
   ]
  },
  {
   "cell_type": "code",
   "execution_count": 9,
   "id": "e40f1909",
   "metadata": {
    "execution": {
     "iopub.execute_input": "2024-01-22T13:38:12.342860Z",
     "iopub.status.busy": "2024-01-22T13:38:12.342141Z",
     "iopub.status.idle": "2024-01-22T13:38:12.365409Z",
     "shell.execute_reply": "2024-01-22T13:38:12.364332Z"
    },
    "id": "e40f1909",
    "outputId": "8be2a03a-9839-450f-c323-44d3c4643b37",
    "papermill": {
     "duration": 0.053467,
     "end_time": "2024-01-22T13:38:12.367966",
     "exception": false,
     "start_time": "2024-01-22T13:38:12.314499",
     "status": "completed"
    },
    "tags": []
   },
   "outputs": [
    {
     "data": {
      "text/plain": [
       "(12791, 9)"
      ]
     },
     "execution_count": 9,
     "metadata": {},
     "output_type": "execute_result"
    }
   ],
   "source": [
    "df = df.drop_duplicates()\n",
    "df.shape"
   ]
  },
  {
   "cell_type": "code",
   "execution_count": 10,
   "id": "34759288",
   "metadata": {
    "execution": {
     "iopub.execute_input": "2024-01-22T13:38:12.423065Z",
     "iopub.status.busy": "2024-01-22T13:38:12.422638Z",
     "iopub.status.idle": "2024-01-22T13:38:12.440236Z",
     "shell.execute_reply": "2024-01-22T13:38:12.439037Z"
    },
    "id": "34759288",
    "outputId": "392c0a30-64c9-4762-e123-2ed27f83cd89",
    "papermill": {
     "duration": 0.047912,
     "end_time": "2024-01-22T13:38:12.442701",
     "exception": false,
     "start_time": "2024-01-22T13:38:12.394789",
     "status": "completed"
    },
    "tags": []
   },
   "outputs": [
    {
     "data": {
      "text/plain": [
       "area_type          0\n",
       "availability       0\n",
       "location           1\n",
       "size              16\n",
       "society         5328\n",
       "total_sqft         0\n",
       "bath              73\n",
       "balcony          605\n",
       "price              0\n",
       "dtype: int64"
      ]
     },
     "execution_count": 10,
     "metadata": {},
     "output_type": "execute_result"
    }
   ],
   "source": [
    "df.isna().sum()"
   ]
  },
  {
   "cell_type": "code",
   "execution_count": 11,
   "id": "507e0b7d",
   "metadata": {
    "execution": {
     "iopub.execute_input": "2024-01-22T13:38:12.552431Z",
     "iopub.status.busy": "2024-01-22T13:38:12.551618Z",
     "iopub.status.idle": "2024-01-22T13:38:12.585919Z",
     "shell.execute_reply": "2024-01-22T13:38:12.583745Z"
    },
    "id": "507e0b7d",
    "outputId": "3ef448ba-8ee3-479c-fef7-183cd8bf60c9",
    "papermill": {
     "duration": 0.065204,
     "end_time": "2024-01-22T13:38:12.588709",
     "exception": false,
     "start_time": "2024-01-22T13:38:12.523505",
     "status": "completed"
    },
    "tags": []
   },
   "outputs": [
    {
     "name": "stdout",
     "output_type": "stream",
     "text": [
      "area_type\n",
      "Super built-up  Area    8317\n",
      "Built-up  Area          2398\n",
      "Plot  Area              1989\n",
      "Carpet  Area              87\n",
      "Name: count, dtype: int64\n",
      "********************\n",
      "availability\n",
      "Ready To Move    10172\n",
      "18-May             292\n",
      "18-Dec             284\n",
      "18-Apr             269\n",
      "18-Aug             187\n",
      "                 ...  \n",
      "16-Oct               1\n",
      "15-Dec               1\n",
      "15-Jun               1\n",
      "16-Jul               1\n",
      "14-Jul               1\n",
      "Name: count, Length: 81, dtype: int64\n",
      "********************\n",
      "location\n",
      "Whitefield                        523\n",
      "Sarjapur  Road                    379\n",
      "Electronic City                   287\n",
      "Kanakpura Road                    249\n",
      "Thanisandra                       229\n",
      "                                 ... \n",
      "Bapuji Layout                       1\n",
      "1st Stage Radha Krishna Layout      1\n",
      "BEML Layout 5th stage               1\n",
      "singapura paradise                  1\n",
      "Abshot Layout                       1\n",
      "Name: count, Length: 1305, dtype: int64\n",
      "********************\n",
      "size\n",
      "2 BHK         4931\n",
      "3 BHK         4120\n",
      "4 Bedroom      824\n",
      "4 BHK          574\n",
      "3 Bedroom      535\n",
      "1 BHK          521\n",
      "2 Bedroom      314\n",
      "5 Bedroom      291\n",
      "6 Bedroom      191\n",
      "1 Bedroom      104\n",
      "8 Bedroom       84\n",
      "7 Bedroom       82\n",
      "5 BHK           59\n",
      "9 Bedroom       46\n",
      "6 BHK           30\n",
      "7 BHK           17\n",
      "1 RK            13\n",
      "10 Bedroom      12\n",
      "9 BHK            8\n",
      "8 BHK            5\n",
      "11 BHK           2\n",
      "11 Bedroom       2\n",
      "10 BHK           2\n",
      "14 BHK           1\n",
      "13 BHK           1\n",
      "12 Bedroom       1\n",
      "27 BHK           1\n",
      "43 Bedroom       1\n",
      "16 BHK           1\n",
      "19 BHK           1\n",
      "18 Bedroom       1\n",
      "Name: count, dtype: int64\n",
      "********************\n",
      "society\n",
      "GrrvaGr    68\n",
      "PrarePa    63\n",
      "Sryalan    56\n",
      "Prtates    54\n",
      "GMown E    52\n",
      "           ..\n",
      "AcisePa     1\n",
      "Madener     1\n",
      "Siilka      1\n",
      "Tepleee     1\n",
      "RSntsAp     1\n",
      "Name: count, Length: 2688, dtype: int64\n",
      "********************\n",
      "total_sqft\n",
      "1200           808\n",
      "1100           210\n",
      "1500           202\n",
      "2400           196\n",
      "600            178\n",
      "              ... \n",
      "2563 - 2733      1\n",
      "2005             1\n",
      "605 - 624        1\n",
      "4260 - 4408      1\n",
      "4689             1\n",
      "Name: count, Length: 2117, dtype: int64\n",
      "********************\n",
      "bath\n",
      "2.0     6546\n",
      "3.0     3180\n",
      "4.0     1198\n",
      "1.0      762\n",
      "5.0      520\n",
      "6.0      271\n",
      "7.0      102\n",
      "8.0       64\n",
      "9.0       42\n",
      "10.0      13\n",
      "12.0       7\n",
      "13.0       3\n",
      "11.0       3\n",
      "16.0       2\n",
      "27.0       1\n",
      "40.0       1\n",
      "15.0       1\n",
      "14.0       1\n",
      "18.0       1\n",
      "Name: count, dtype: int64\n",
      "********************\n",
      "balcony\n",
      "2.0    4846\n",
      "1.0    4700\n",
      "3.0    1630\n",
      "0.0    1010\n",
      "Name: count, dtype: int64\n",
      "********************\n",
      "price\n",
      "75.00     300\n",
      "65.00     296\n",
      "55.00     265\n",
      "60.00     263\n",
      "45.00     231\n",
      "         ... \n",
      "40.98       1\n",
      "27.54       1\n",
      "84.95       1\n",
      "63.98       1\n",
      "488.00      1\n",
      "Name: count, Length: 1994, dtype: int64\n",
      "********************\n"
     ]
    }
   ],
   "source": [
    "# we have to drop some columns because of the missing values\n",
    "for col in df.columns:\n",
    "    print(df[col].value_counts())\n",
    "    print(\"*\"*20)"
   ]
  },
  {
   "cell_type": "code",
   "execution_count": 13,
   "id": "3dd3f0b8",
   "metadata": {
    "execution": {
     "iopub.execute_input": "2024-01-22T13:38:12.644449Z",
     "iopub.status.busy": "2024-01-22T13:38:12.644014Z",
     "iopub.status.idle": "2024-01-22T13:38:13.183111Z",
     "shell.execute_reply": "2024-01-22T13:38:13.182174Z"
    },
    "id": "3dd3f0b8",
    "outputId": "49d39c29-673a-4e35-85a2-9bbe6c1f0eea",
    "papermill": {
     "duration": 0.569565,
     "end_time": "2024-01-22T13:38:13.185342",
     "exception": false,
     "start_time": "2024-01-22T13:38:12.615777",
     "status": "completed"
    },
    "tags": []
   },
   "outputs": [
    {
     "data": {
      "image/png": "[encoded data removed]",
      "text/plain": [
       "<Figure size 640x480 with 1 Axes>"
      ]
     },
     "metadata": {},
     "output_type": "display_data"
    }
   ],
   "source": [
    "sns.barplot(x=df['balcony'], y=df['price'])\n",
    "plt.xticks(rotation='vertical')\n",
    "plt.show()"
   ]
  },
  {
   "cell_type": "code",
   "execution_count": 14,
   "id": "9044138d",
   "metadata": {
    "execution": {
     "iopub.execute_input": "2024-01-22T13:38:13.244466Z",
     "iopub.status.busy": "2024-01-22T13:38:13.243580Z",
     "iopub.status.idle": "2024-01-22T13:38:13.508571Z",
     "shell.execute_reply": "2024-01-22T13:38:13.507352Z"
    },
    "id": "9044138d",
    "outputId": "951ea789-7158-44bb-a18a-8be6446d23c8",
    "papermill": {
     "duration": 0.297479,
     "end_time": "2024-01-22T13:38:13.511134",
     "exception": false,
     "start_time": "2024-01-22T13:38:13.213655",
     "status": "completed"
    },
    "tags": []
   },
   "outputs": [
    {
     "data": {
      "image/png": "[encoded data removed]",
      "text/plain": [
       "<Figure size 640x480 with 1 Axes>"
      ]
     },
     "metadata": {},
     "output_type": "display_data"
    }
   ],
   "source": [
    "df['grouped_balcony'] = df['balcony'].apply(lambda x: 'present' if x in [1.0, 2.0, 3.0] else 'not present' if x==0.0 else None)\n",
    "grouped_df = df.groupby('grouped_balcony')['price'].mean().reset_index()\n",
    "\n",
    "# Plotting the bar plot\n",
    "sns.barplot(x=grouped_df['grouped_balcony'], y=grouped_df['price'])\n",
    "plt.xlabel('Balcony Group')\n",
    "plt.ylabel('Mean Price')\n",
    "plt.title('Mean Price by Balcony Group')\n",
    "plt.show()"
   ]
  },
  {
   "cell_type": "code",
   "execution_count": 15,
   "id": "5ddc682f",
   "metadata": {
    "execution": {
     "iopub.execute_input": "2024-01-22T13:38:13.569663Z",
     "iopub.status.busy": "2024-01-22T13:38:13.569269Z",
     "iopub.status.idle": "2024-01-22T13:38:13.581495Z",
     "shell.execute_reply": "2024-01-22T13:38:13.580347Z"
    },
    "id": "5ddc682f",
    "outputId": "ef5f89b3-33d7-42c6-eeb8-63340c2b90b1",
    "papermill": {
     "duration": 0.04408,
     "end_time": "2024-01-22T13:38:13.583548",
     "exception": false,
     "start_time": "2024-01-22T13:38:13.539468",
     "status": "completed"
    },
    "tags": []
   },
   "outputs": [
    {
     "data": {
      "text/plain": [
       "availability\n",
       "Ready To Move    10172\n",
       "18-May             292\n",
       "18-Dec             284\n",
       "18-Apr             269\n",
       "18-Aug             187\n",
       "                 ...  \n",
       "16-Oct               1\n",
       "15-Dec               1\n",
       "15-Jun               1\n",
       "16-Jul               1\n",
       "14-Jul               1\n",
       "Name: count, Length: 81, dtype: int64"
      ]
     },
     "execution_count": 15,
     "metadata": {},
     "output_type": "execute_result"
    }
   ],
   "source": [
    "df['availability'].value_counts()"
   ]
  },
  {
   "cell_type": "code",
   "execution_count": 16,
   "id": "f7cdea3a",
   "metadata": {
    "execution": {
     "iopub.execute_input": "2024-01-22T13:38:13.641609Z",
     "iopub.status.busy": "2024-01-22T13:38:13.640635Z",
     "iopub.status.idle": "2024-01-22T13:38:13.897523Z",
     "shell.execute_reply": "2024-01-22T13:38:13.896364Z"
    },
    "id": "f7cdea3a",
    "outputId": "4ccd9534-437a-430f-9c1f-be33960a5a3c",
    "papermill": {
     "duration": 0.288859,
     "end_time": "2024-01-22T13:38:13.900136",
     "exception": false,
     "start_time": "2024-01-22T13:38:13.611277",
     "status": "completed"
    },
    "tags": []
   },
   "outputs": [
    {
     "data": {
      "image/png": "[encoded data removed]",
      "text/plain": [
       "<Figure size 640x480 with 1 Axes>"
      ]
     },
     "metadata": {},
     "output_type": "display_data"
    }
   ],
   "source": [
    "df['grouped_available'] = df['availability'].apply(lambda x: 'rtm' if x=='Ready To Move' else 'not')\n",
    "grouped_df = df.groupby('grouped_available')['price'].mean().reset_index()\n",
    "\n",
    "# Plotting the bar plot\n",
    "sns.barplot(x=grouped_df['grouped_available'], y=grouped_df['price'])\n",
    "plt.xlabel('available Group')\n",
    "plt.ylabel('Mean Price')\n",
    "plt.title('Mean Price by availablility Group')\n",
    "plt.show()"
   ]
  },
  {
   "cell_type": "code",
   "execution_count": 17,
   "id": "d04cfb9f",
   "metadata": {
    "execution": {
     "iopub.execute_input": "2024-01-22T13:38:13.958991Z",
     "iopub.status.busy": "2024-01-22T13:38:13.957835Z",
     "iopub.status.idle": "2024-01-22T13:38:14.465619Z",
     "shell.execute_reply": "2024-01-22T13:38:14.464490Z"
    },
    "id": "d04cfb9f",
    "outputId": "91529202-5935-42ae-b524-0b2fb4ced6e1",
    "papermill": {
     "duration": 0.540237,
     "end_time": "2024-01-22T13:38:14.468547",
     "exception": false,
     "start_time": "2024-01-22T13:38:13.928310",
     "status": "completed"
    },
    "tags": []
   },
   "outputs": [
    {
     "data": {
      "image/png": "[encoded data removed]",
      "text/plain": [
       "<Figure size 640x480 with 1 Axes>"
      ]
     },
     "metadata": {},
     "output_type": "display_data"
    }
   ],
   "source": [
    "sns.barplot(x=df['area_type'], y=df['price'])\n",
    "plt.xticks(rotation='vertical')\n",
    "plt.show()"
   ]
  },
  {
   "cell_type": "code",
   "execution_count": 18,
   "id": "46a7b7a5",
   "metadata": {
    "execution": {
     "iopub.execute_input": "2024-01-22T13:38:14.587443Z",
     "iopub.status.busy": "2024-01-22T13:38:14.587053Z",
     "iopub.status.idle": "2024-01-22T13:38:14.596197Z",
     "shell.execute_reply": "2024-01-22T13:38:14.595313Z"
    },
    "id": "46a7b7a5",
    "papermill": {
     "duration": 0.041548,
     "end_time": "2024-01-22T13:38:14.598373",
     "exception": false,
     "start_time": "2024-01-22T13:38:14.556825",
     "status": "completed"
    },
    "tags": []
   },
   "outputs": [],
   "source": [
    "df.drop(columns = ['balcony','society', 'grouped_balcony', 'grouped_available'], axis=1, inplace=True)"
   ]
  },
  {
   "cell_type": "code",
   "execution_count": 19,
   "id": "35c4b206",
   "metadata": {
    "execution": {
     "iopub.execute_input": "2024-01-22T13:38:14.658170Z",
     "iopub.status.busy": "2024-01-22T13:38:14.657373Z",
     "iopub.status.idle": "2024-01-22T13:38:14.676001Z",
     "shell.execute_reply": "2024-01-22T13:38:14.674851Z"
    },
    "id": "35c4b206",
    "outputId": "2b170d24-7926-440f-e264-8aef6ef6bbf8",
    "papermill": {
     "duration": 0.05103,
     "end_time": "2024-01-22T13:38:14.678493",
     "exception": false,
     "start_time": "2024-01-22T13:38:14.627463",
     "status": "completed"
    },
    "tags": []
   },
   "outputs": [
    {
     "data": {
      "text/html": [
       "<div>\n",
       "<style scoped>\n",
       "    .dataframe tbody tr th:only-of-type {\n",
       "        vertical-align: middle;\n",
       "    }\n",
       "\n",
       "    .dataframe tbody tr th {\n",
       "        vertical-align: top;\n",
       "    }\n",
       "\n",
       "    .dataframe thead th {\n",
       "        text-align: right;\n",
       "    }\n",
       "</style>\n",
       "<table border=\"1\" class=\"dataframe\">\n",
       "  <thead>\n",
       "    <tr style=\"text-align: right;\">\n",
       "      <th></th>\n",
       "      <th>bath</th>\n",
       "      <th>price</th>\n",
       "    </tr>\n",
       "  </thead>\n",
       "  <tbody>\n",
       "    <tr>\n",
       "      <th>count</th>\n",
       "      <td>12718.000000</td>\n",
       "      <td>12791.000000</td>\n",
       "    </tr>\n",
       "    <tr>\n",
       "      <th>mean</th>\n",
       "      <td>2.708602</td>\n",
       "      <td>114.317646</td>\n",
       "    </tr>\n",
       "    <tr>\n",
       "      <th>std</th>\n",
       "      <td>1.357764</td>\n",
       "      <td>151.480310</td>\n",
       "    </tr>\n",
       "    <tr>\n",
       "      <th>min</th>\n",
       "      <td>1.000000</td>\n",
       "      <td>8.000000</td>\n",
       "    </tr>\n",
       "    <tr>\n",
       "      <th>25%</th>\n",
       "      <td>2.000000</td>\n",
       "      <td>50.000000</td>\n",
       "    </tr>\n",
       "    <tr>\n",
       "      <th>50%</th>\n",
       "      <td>2.000000</td>\n",
       "      <td>73.000000</td>\n",
       "    </tr>\n",
       "    <tr>\n",
       "      <th>75%</th>\n",
       "      <td>3.000000</td>\n",
       "      <td>121.000000</td>\n",
       "    </tr>\n",
       "    <tr>\n",
       "      <th>max</th>\n",
       "      <td>40.000000</td>\n",
       "      <td>3600.000000</td>\n",
       "    </tr>\n",
       "  </tbody>\n",
       "</table>\n",
       "</div>"
      ],
      "text/plain": [
       "               bath         price\n",
       "count  12718.000000  12791.000000\n",
       "mean       2.708602    114.317646\n",
       "std        1.357764    151.480310\n",
       "min        1.000000      8.000000\n",
       "25%        2.000000     50.000000\n",
       "50%        2.000000     73.000000\n",
       "75%        3.000000    121.000000\n",
       "max       40.000000   3600.000000"
      ]
     },
     "execution_count": 19,
     "metadata": {},
     "output_type": "execute_result"
    }
   ],
   "source": [
    "df.describe()"
   ]
  },
  {
   "cell_type": "code",
   "execution_count": 20,
   "id": "002c0da9",
   "metadata": {
    "execution": {
     "iopub.execute_input": "2024-01-22T13:38:14.740146Z",
     "iopub.status.busy": "2024-01-22T13:38:14.739725Z",
     "iopub.status.idle": "2024-01-22T13:38:14.758674Z",
     "shell.execute_reply": "2024-01-22T13:38:14.757115Z"
    },
    "id": "002c0da9",
    "outputId": "9190142f-88f5-4249-f794-fe9ca3f1557c",
    "papermill": {
     "duration": 0.052874,
     "end_time": "2024-01-22T13:38:14.761125",
     "exception": false,
     "start_time": "2024-01-22T13:38:14.708251",
     "status": "completed"
    },
    "tags": []
   },
   "outputs": [
    {
     "name": "stdout",
     "output_type": "stream",
     "text": [
      "<class 'pandas.core.frame.DataFrame'>\n",
      "Index: 12791 entries, 0 to 13318\n",
      "Data columns (total 7 columns):\n",
      " #   Column        Non-Null Count  Dtype  \n",
      "---  ------        --------------  -----  \n",
      " 0   area_type     12791 non-null  object \n",
      " 1   availability  12791 non-null  object \n",
      " 2   location      12790 non-null  object \n",
      " 3   size          12775 non-null  object \n",
      " 4   total_sqft    12791 non-null  object \n",
      " 5   bath          12718 non-null  float64\n",
      " 6   price         12791 non-null  float64\n",
      "dtypes: float64(2), object(5)\n",
      "memory usage: 799.4+ KB\n"
     ]
    }
   ],
   "source": [
    "df.info()"
   ]
  },
  {
   "cell_type": "code",
   "execution_count": 21,
   "id": "e3272215",
   "metadata": {
    "execution": {
     "iopub.execute_input": "2024-01-22T13:38:14.822090Z",
     "iopub.status.busy": "2024-01-22T13:38:14.821648Z",
     "iopub.status.idle": "2024-01-22T13:38:14.834142Z",
     "shell.execute_reply": "2024-01-22T13:38:14.832928Z"
    },
    "id": "e3272215",
    "outputId": "5092f3e1-f92d-451b-9434-e7e022b20a99",
    "papermill": {
     "duration": 0.045838,
     "end_time": "2024-01-22T13:38:14.836571",
     "exception": false,
     "start_time": "2024-01-22T13:38:14.790733",
     "status": "completed"
    },
    "tags": []
   },
   "outputs": [
    {
     "data": {
      "text/plain": [
       "location\n",
       "Whitefield                        523\n",
       "Sarjapur  Road                    379\n",
       "Electronic City                   287\n",
       "Kanakpura Road                    249\n",
       "Thanisandra                       229\n",
       "                                 ... \n",
       "Bapuji Layout                       1\n",
       "1st Stage Radha Krishna Layout      1\n",
       "BEML Layout 5th stage               1\n",
       "singapura paradise                  1\n",
       "Abshot Layout                       1\n",
       "Name: count, Length: 1305, dtype: int64"
      ]
     },
     "execution_count": 21,
     "metadata": {},
     "output_type": "execute_result"
    }
   ],
   "source": [
    "df['location'].value_counts()"
   ]
  },
  {
   "cell_type": "code",
   "execution_count": 22,
   "id": "eac68cc8",
   "metadata": {
    "execution": {
     "iopub.execute_input": "2024-01-22T13:38:14.897547Z",
     "iopub.status.busy": "2024-01-22T13:38:14.897122Z",
     "iopub.status.idle": "2024-01-22T13:38:14.905052Z",
     "shell.execute_reply": "2024-01-22T13:38:14.903931Z"
    },
    "id": "eac68cc8",
    "papermill": {
     "duration": 0.041654,
     "end_time": "2024-01-22T13:38:14.907726",
     "exception": false,
     "start_time": "2024-01-22T13:38:14.866072",
     "status": "completed"
    },
    "tags": []
   },
   "outputs": [],
   "source": [
    "df['location'] = df['location'].fillna('Sarjapur  Road')"
   ]
  },
  {
   "cell_type": "code",
   "execution_count": 23,
   "id": "e6368d9e",
   "metadata": {
    "execution": {
     "iopub.execute_input": "2024-01-22T13:38:14.969329Z",
     "iopub.status.busy": "2024-01-22T13:38:14.968859Z",
     "iopub.status.idle": "2024-01-22T13:38:14.981114Z",
     "shell.execute_reply": "2024-01-22T13:38:14.979958Z"
    },
    "id": "e6368d9e",
    "outputId": "d43bcf4e-a214-4056-d236-0ce749dbdcab",
    "papermill": {
     "duration": 0.045473,
     "end_time": "2024-01-22T13:38:14.983553",
     "exception": false,
     "start_time": "2024-01-22T13:38:14.938080",
     "status": "completed"
    },
    "tags": []
   },
   "outputs": [
    {
     "data": {
      "text/plain": [
       "size\n",
       "2 BHK         4931\n",
       "3 BHK         4120\n",
       "4 Bedroom      824\n",
       "4 BHK          574\n",
       "3 Bedroom      535\n",
       "1 BHK          521\n",
       "2 Bedroom      314\n",
       "5 Bedroom      291\n",
       "6 Bedroom      191\n",
       "1 Bedroom      104\n",
       "8 Bedroom       84\n",
       "7 Bedroom       82\n",
       "5 BHK           59\n",
       "9 Bedroom       46\n",
       "6 BHK           30\n",
       "7 BHK           17\n",
       "1 RK            13\n",
       "10 Bedroom      12\n",
       "9 BHK            8\n",
       "8 BHK            5\n",
       "11 BHK           2\n",
       "11 Bedroom       2\n",
       "10 BHK           2\n",
       "14 BHK           1\n",
       "13 BHK           1\n",
       "12 Bedroom       1\n",
       "27 BHK           1\n",
       "43 Bedroom       1\n",
       "16 BHK           1\n",
       "19 BHK           1\n",
       "18 Bedroom       1\n",
       "Name: count, dtype: int64"
      ]
     },
     "execution_count": 23,
     "metadata": {},
     "output_type": "execute_result"
    }
   ],
   "source": [
    "df['size'].value_counts()"
   ]
  },
  {
   "cell_type": "code",
   "execution_count": 24,
   "id": "33aabc36",
   "metadata": {
    "execution": {
     "iopub.execute_input": "2024-01-22T13:38:15.044941Z",
     "iopub.status.busy": "2024-01-22T13:38:15.044505Z",
     "iopub.status.idle": "2024-01-22T13:38:15.054015Z",
     "shell.execute_reply": "2024-01-22T13:38:15.052725Z"
    },
    "id": "33aabc36",
    "papermill": {
     "duration": 0.043053,
     "end_time": "2024-01-22T13:38:15.056579",
     "exception": false,
     "start_time": "2024-01-22T13:38:15.013526",
     "status": "completed"
    },
    "tags": []
   },
   "outputs": [],
   "source": [
    "df['size'] = df['size'].fillna('2 BHK')"
   ]
  },
  {
   "cell_type": "code",
   "execution_count": 25,
   "id": "3fe8d859",
   "metadata": {
    "execution": {
     "iopub.execute_input": "2024-01-22T13:38:15.120080Z",
     "iopub.status.busy": "2024-01-22T13:38:15.119627Z",
     "iopub.status.idle": "2024-01-22T13:38:15.127391Z",
     "shell.execute_reply": "2024-01-22T13:38:15.126176Z"
    },
    "id": "3fe8d859",
    "papermill": {
     "duration": 0.043301,
     "end_time": "2024-01-22T13:38:15.130442",
     "exception": false,
     "start_time": "2024-01-22T13:38:15.087141",
     "status": "completed"
    },
    "tags": []
   },
   "outputs": [],
   "source": [
    "df['bath']= df['bath'].fillna(df['bath'].median())"
   ]
  },
  {
   "cell_type": "code",
   "execution_count": 26,
   "id": "f4ce12c7",
   "metadata": {
    "execution": {
     "iopub.execute_input": "2024-01-22T13:38:15.192066Z",
     "iopub.status.busy": "2024-01-22T13:38:15.191621Z",
     "iopub.status.idle": "2024-01-22T13:38:15.224712Z",
     "shell.execute_reply": "2024-01-22T13:38:15.223473Z"
    },
    "id": "f4ce12c7",
    "papermill": {
     "duration": 0.06695,
     "end_time": "2024-01-22T13:38:15.227199",
     "exception": false,
     "start_time": "2024-01-22T13:38:15.160249",
     "status": "completed"
    },
    "tags": []
   },
   "outputs": [],
   "source": [
    "df['bhk'] = df['size'].str.split(\" \").str[0].astype(int)"
   ]
  },
  {
   "cell_type": "code",
   "execution_count": 27,
   "id": "4a7c91ff",
   "metadata": {
    "execution": {
     "iopub.execute_input": "2024-01-22T13:38:15.289521Z",
     "iopub.status.busy": "2024-01-22T13:38:15.289046Z",
     "iopub.status.idle": "2024-01-22T13:38:15.502700Z",
     "shell.execute_reply": "2024-01-22T13:38:15.501317Z"
    },
    "id": "4a7c91ff",
    "outputId": "be8cacb7-7c58-4a9d-85de-8ecd88d231dc",
    "papermill": {
     "duration": 0.249079,
     "end_time": "2024-01-22T13:38:15.506431",
     "exception": false,
     "start_time": "2024-01-22T13:38:15.257352",
     "status": "completed"
    },
    "tags": []
   },
   "outputs": [
    {
     "data": {
      "image/png": "[encoded data removed]",
      "text/plain": [
       "<Figure size 640x480 with 1 Axes>"
      ]
     },
     "metadata": {},
     "output_type": "display_data"
    }
   ],
   "source": [
    "plt.boxplot(df['bhk'])\n",
    "plt.show()"
   ]
  },
  {
   "cell_type": "code",
   "execution_count": 28,
   "id": "0df9386e",
   "metadata": {
    "execution": {
     "iopub.execute_input": "2024-01-22T13:38:15.575053Z",
     "iopub.status.busy": "2024-01-22T13:38:15.574188Z",
     "iopub.status.idle": "2024-01-22T13:38:15.590224Z",
     "shell.execute_reply": "2024-01-22T13:38:15.589085Z"
    },
    "id": "0df9386e",
    "outputId": "3fed0c07-a1e9-4a65-e7d5-9c41f658d7f9",
    "papermill": {
     "duration": 0.050197,
     "end_time": "2024-01-22T13:38:15.592771",
     "exception": false,
     "start_time": "2024-01-22T13:38:15.542574",
     "status": "completed"
    },
    "tags": []
   },
   "outputs": [
    {
     "data": {
      "text/html": [
       "<div>\n",
       "<style scoped>\n",
       "    .dataframe tbody tr th:only-of-type {\n",
       "        vertical-align: middle;\n",
       "    }\n",
       "\n",
       "    .dataframe tbody tr th {\n",
       "        vertical-align: top;\n",
       "    }\n",
       "\n",
       "    .dataframe thead th {\n",
       "        text-align: right;\n",
       "    }\n",
       "</style>\n",
       "<table border=\"1\" class=\"dataframe\">\n",
       "  <thead>\n",
       "    <tr style=\"text-align: right;\">\n",
       "      <th></th>\n",
       "      <th>area_type</th>\n",
       "      <th>availability</th>\n",
       "      <th>location</th>\n",
       "      <th>size</th>\n",
       "      <th>total_sqft</th>\n",
       "      <th>bath</th>\n",
       "      <th>price</th>\n",
       "      <th>bhk</th>\n",
       "    </tr>\n",
       "  </thead>\n",
       "  <tbody>\n",
       "    <tr>\n",
       "      <th>1718</th>\n",
       "      <td>Super built-up  Area</td>\n",
       "      <td>Ready To Move</td>\n",
       "      <td>2Electronic City Phase II</td>\n",
       "      <td>27 BHK</td>\n",
       "      <td>8000</td>\n",
       "      <td>27.0</td>\n",
       "      <td>230.0</td>\n",
       "      <td>27</td>\n",
       "    </tr>\n",
       "    <tr>\n",
       "      <th>4684</th>\n",
       "      <td>Plot  Area</td>\n",
       "      <td>Ready To Move</td>\n",
       "      <td>Munnekollal</td>\n",
       "      <td>43 Bedroom</td>\n",
       "      <td>2400</td>\n",
       "      <td>40.0</td>\n",
       "      <td>660.0</td>\n",
       "      <td>43</td>\n",
       "    </tr>\n",
       "  </tbody>\n",
       "</table>\n",
       "</div>"
      ],
      "text/plain": [
       "                 area_type   availability                   location  \\\n",
       "1718  Super built-up  Area  Ready To Move  2Electronic City Phase II   \n",
       "4684            Plot  Area  Ready To Move                Munnekollal   \n",
       "\n",
       "            size total_sqft  bath  price  bhk  \n",
       "1718      27 BHK       8000  27.0  230.0   27  \n",
       "4684  43 Bedroom       2400  40.0  660.0   43  "
      ]
     },
     "execution_count": 28,
     "metadata": {},
     "output_type": "execute_result"
    }
   ],
   "source": [
    "df[df['bhk']>20]"
   ]
  },
  {
   "cell_type": "code",
   "execution_count": 29,
   "id": "dc5a4c86",
   "metadata": {
    "execution": {
     "iopub.execute_input": "2024-01-22T13:38:15.655034Z",
     "iopub.status.busy": "2024-01-22T13:38:15.654548Z",
     "iopub.status.idle": "2024-01-22T13:38:15.896495Z",
     "shell.execute_reply": "2024-01-22T13:38:15.895293Z"
    },
    "id": "dc5a4c86",
    "outputId": "c426188f-8874-489c-b5c9-56517773f1aa",
    "papermill": {
     "duration": 0.276383,
     "end_time": "2024-01-22T13:38:15.899600",
     "exception": false,
     "start_time": "2024-01-22T13:38:15.623217",
     "status": "completed"
    },
    "tags": []
   },
   "outputs": [
    {
     "data": {
      "image/png": "[encoded data removed]",
      "text/plain": [
       "<Figure size 640x480 with 1 Axes>"
      ]
     },
     "metadata": {},
     "output_type": "display_data"
    }
   ],
   "source": [
    "plt.boxplot(df['bath'])\n",
    "plt.show()"
   ]
  },
  {
   "cell_type": "code",
   "execution_count": 30,
   "id": "0796f76f",
   "metadata": {
    "execution": {
     "iopub.execute_input": "2024-01-22T13:38:15.966804Z",
     "iopub.status.busy": "2024-01-22T13:38:15.965687Z",
     "iopub.status.idle": "2024-01-22T13:38:15.994900Z",
     "shell.execute_reply": "2024-01-22T13:38:15.993655Z"
    },
    "id": "0796f76f",
    "outputId": "777c42c1-c722-491b-9533-0304a43c4926",
    "papermill": {
     "duration": 0.063939,
     "end_time": "2024-01-22T13:38:15.997565",
     "exception": false,
     "start_time": "2024-01-22T13:38:15.933626",
     "status": "completed"
    },
    "tags": []
   },
   "outputs": [
    {
     "data": {
      "text/html": [
       "<div>\n",
       "<style scoped>\n",
       "    .dataframe tbody tr th:only-of-type {\n",
       "        vertical-align: middle;\n",
       "    }\n",
       "\n",
       "    .dataframe tbody tr th {\n",
       "        vertical-align: top;\n",
       "    }\n",
       "\n",
       "    .dataframe thead th {\n",
       "        text-align: right;\n",
       "    }\n",
       "</style>\n",
       "<table border=\"1\" class=\"dataframe\">\n",
       "  <thead>\n",
       "    <tr style=\"text-align: right;\">\n",
       "      <th></th>\n",
       "      <th>area_type</th>\n",
       "      <th>availability</th>\n",
       "      <th>location</th>\n",
       "      <th>size</th>\n",
       "      <th>total_sqft</th>\n",
       "      <th>bath</th>\n",
       "      <th>price</th>\n",
       "      <th>bhk</th>\n",
       "    </tr>\n",
       "  </thead>\n",
       "  <tbody>\n",
       "    <tr>\n",
       "      <th>30</th>\n",
       "      <td>Super built-up  Area</td>\n",
       "      <td>19-Dec</td>\n",
       "      <td>Yelahanka</td>\n",
       "      <td>4 BHK</td>\n",
       "      <td>2100 - 2850</td>\n",
       "      <td>4.0</td>\n",
       "      <td>186.000</td>\n",
       "      <td>4</td>\n",
       "    </tr>\n",
       "    <tr>\n",
       "      <th>56</th>\n",
       "      <td>Built-up  Area</td>\n",
       "      <td>20-Feb</td>\n",
       "      <td>Devanahalli</td>\n",
       "      <td>4 Bedroom</td>\n",
       "      <td>3010 - 3410</td>\n",
       "      <td>2.0</td>\n",
       "      <td>192.000</td>\n",
       "      <td>4</td>\n",
       "    </tr>\n",
       "    <tr>\n",
       "      <th>81</th>\n",
       "      <td>Built-up  Area</td>\n",
       "      <td>18-Oct</td>\n",
       "      <td>Hennur Road</td>\n",
       "      <td>4 Bedroom</td>\n",
       "      <td>2957 - 3450</td>\n",
       "      <td>2.0</td>\n",
       "      <td>224.500</td>\n",
       "      <td>4</td>\n",
       "    </tr>\n",
       "    <tr>\n",
       "      <th>122</th>\n",
       "      <td>Super built-up  Area</td>\n",
       "      <td>18-Mar</td>\n",
       "      <td>Hebbal</td>\n",
       "      <td>4 BHK</td>\n",
       "      <td>3067 - 8156</td>\n",
       "      <td>4.0</td>\n",
       "      <td>477.000</td>\n",
       "      <td>4</td>\n",
       "    </tr>\n",
       "    <tr>\n",
       "      <th>137</th>\n",
       "      <td>Super built-up  Area</td>\n",
       "      <td>19-Mar</td>\n",
       "      <td>8th Phase JP Nagar</td>\n",
       "      <td>2 BHK</td>\n",
       "      <td>1042 - 1105</td>\n",
       "      <td>2.0</td>\n",
       "      <td>54.005</td>\n",
       "      <td>2</td>\n",
       "    </tr>\n",
       "    <tr>\n",
       "      <th>...</th>\n",
       "      <td>...</td>\n",
       "      <td>...</td>\n",
       "      <td>...</td>\n",
       "      <td>...</td>\n",
       "      <td>...</td>\n",
       "      <td>...</td>\n",
       "      <td>...</td>\n",
       "      <td>...</td>\n",
       "    </tr>\n",
       "    <tr>\n",
       "      <th>12975</th>\n",
       "      <td>Super built-up  Area</td>\n",
       "      <td>20-Aug</td>\n",
       "      <td>Whitefield</td>\n",
       "      <td>2 BHK</td>\n",
       "      <td>850 - 1060</td>\n",
       "      <td>2.0</td>\n",
       "      <td>38.190</td>\n",
       "      <td>2</td>\n",
       "    </tr>\n",
       "    <tr>\n",
       "      <th>12990</th>\n",
       "      <td>Super built-up  Area</td>\n",
       "      <td>18-May</td>\n",
       "      <td>Talaghattapura</td>\n",
       "      <td>3 BHK</td>\n",
       "      <td>1804 - 2273</td>\n",
       "      <td>3.0</td>\n",
       "      <td>122.000</td>\n",
       "      <td>3</td>\n",
       "    </tr>\n",
       "    <tr>\n",
       "      <th>13059</th>\n",
       "      <td>Super built-up  Area</td>\n",
       "      <td>Ready To Move</td>\n",
       "      <td>Harlur</td>\n",
       "      <td>2 BHK</td>\n",
       "      <td>1200 - 1470</td>\n",
       "      <td>2.0</td>\n",
       "      <td>72.760</td>\n",
       "      <td>2</td>\n",
       "    </tr>\n",
       "    <tr>\n",
       "      <th>13240</th>\n",
       "      <td>Super built-up  Area</td>\n",
       "      <td>Ready To Move</td>\n",
       "      <td>Devanahalli</td>\n",
       "      <td>1 BHK</td>\n",
       "      <td>1020 - 1130</td>\n",
       "      <td>2.0</td>\n",
       "      <td>52.570</td>\n",
       "      <td>1</td>\n",
       "    </tr>\n",
       "    <tr>\n",
       "      <th>13265</th>\n",
       "      <td>Super built-up  Area</td>\n",
       "      <td>20-Sep</td>\n",
       "      <td>Hoodi</td>\n",
       "      <td>2 BHK</td>\n",
       "      <td>1133 - 1384</td>\n",
       "      <td>2.0</td>\n",
       "      <td>59.135</td>\n",
       "      <td>2</td>\n",
       "    </tr>\n",
       "  </tbody>\n",
       "</table>\n",
       "<p>246 rows × 8 columns</p>\n",
       "</div>"
      ],
      "text/plain": [
       "                  area_type   availability            location       size  \\\n",
       "30     Super built-up  Area         19-Dec           Yelahanka      4 BHK   \n",
       "56           Built-up  Area         20-Feb         Devanahalli  4 Bedroom   \n",
       "81           Built-up  Area         18-Oct         Hennur Road  4 Bedroom   \n",
       "122    Super built-up  Area         18-Mar              Hebbal      4 BHK   \n",
       "137    Super built-up  Area         19-Mar  8th Phase JP Nagar      2 BHK   \n",
       "...                     ...            ...                 ...        ...   \n",
       "12975  Super built-up  Area         20-Aug          Whitefield      2 BHK   \n",
       "12990  Super built-up  Area         18-May      Talaghattapura      3 BHK   \n",
       "13059  Super built-up  Area  Ready To Move              Harlur      2 BHK   \n",
       "13240  Super built-up  Area  Ready To Move         Devanahalli      1 BHK   \n",
       "13265  Super built-up  Area         20-Sep               Hoodi      2 BHK   \n",
       "\n",
       "        total_sqft  bath    price  bhk  \n",
       "30     2100 - 2850   4.0  186.000    4  \n",
       "56     3010 - 3410   2.0  192.000    4  \n",
       "81     2957 - 3450   2.0  224.500    4  \n",
       "122    3067 - 8156   4.0  477.000    4  \n",
       "137    1042 - 1105   2.0   54.005    2  \n",
       "...            ...   ...      ...  ...  \n",
       "12975   850 - 1060   2.0   38.190    2  \n",
       "12990  1804 - 2273   3.0  122.000    3  \n",
       "13059  1200 - 1470   2.0   72.760    2  \n",
       "13240  1020 - 1130   2.0   52.570    1  \n",
       "13265  1133 - 1384   2.0   59.135    2  \n",
       "\n",
       "[246 rows x 8 columns]"
      ]
     },
     "execution_count": 30,
     "metadata": {},
     "output_type": "execute_result"
    }
   ],
   "source": [
    "#checking problamatic str values (ranges defined) in the total_sqft column\n",
    "\n",
    "def check_str(val):\n",
    "    try:\n",
    "        float(val)\n",
    "    except:\n",
    "        return True\n",
    "    return False\n",
    "\n",
    "df[df['total_sqft'].apply(check_str)]\n"
   ]
  },
  {
   "cell_type": "code",
   "execution_count": 31,
   "id": "fb5324da",
   "metadata": {
    "execution": {
     "iopub.execute_input": "2024-01-22T13:38:16.063264Z",
     "iopub.status.busy": "2024-01-22T13:38:16.062816Z",
     "iopub.status.idle": "2024-01-22T13:38:16.082102Z",
     "shell.execute_reply": "2024-01-22T13:38:16.080671Z"
    },
    "id": "fb5324da",
    "outputId": "3ef9339f-bb06-41aa-d489-bd6c20898fa9",
    "papermill": {
     "duration": 0.056498,
     "end_time": "2024-01-22T13:38:16.084862",
     "exception": false,
     "start_time": "2024-01-22T13:38:16.028364",
     "status": "completed"
    },
    "tags": []
   },
   "outputs": [
    {
     "data": {
      "text/html": [
       "<div>\n",
       "<style scoped>\n",
       "    .dataframe tbody tr th:only-of-type {\n",
       "        vertical-align: middle;\n",
       "    }\n",
       "\n",
       "    .dataframe tbody tr th {\n",
       "        vertical-align: top;\n",
       "    }\n",
       "\n",
       "    .dataframe thead th {\n",
       "        text-align: right;\n",
       "    }\n",
       "</style>\n",
       "<table border=\"1\" class=\"dataframe\">\n",
       "  <thead>\n",
       "    <tr style=\"text-align: right;\">\n",
       "      <th></th>\n",
       "      <th>area_type</th>\n",
       "      <th>availability</th>\n",
       "      <th>location</th>\n",
       "      <th>size</th>\n",
       "      <th>total_sqft</th>\n",
       "      <th>bath</th>\n",
       "      <th>price</th>\n",
       "      <th>bhk</th>\n",
       "    </tr>\n",
       "  </thead>\n",
       "  <tbody>\n",
       "    <tr>\n",
       "      <th>0</th>\n",
       "      <td>Super built-up  Area</td>\n",
       "      <td>19-Dec</td>\n",
       "      <td>Electronic City Phase II</td>\n",
       "      <td>2 BHK</td>\n",
       "      <td>1056</td>\n",
       "      <td>2.0</td>\n",
       "      <td>39.07</td>\n",
       "      <td>2</td>\n",
       "    </tr>\n",
       "    <tr>\n",
       "      <th>1</th>\n",
       "      <td>Plot  Area</td>\n",
       "      <td>Ready To Move</td>\n",
       "      <td>Chikka Tirupathi</td>\n",
       "      <td>4 Bedroom</td>\n",
       "      <td>2600</td>\n",
       "      <td>5.0</td>\n",
       "      <td>120.00</td>\n",
       "      <td>4</td>\n",
       "    </tr>\n",
       "    <tr>\n",
       "      <th>2</th>\n",
       "      <td>Built-up  Area</td>\n",
       "      <td>Ready To Move</td>\n",
       "      <td>Uttarahalli</td>\n",
       "      <td>3 BHK</td>\n",
       "      <td>1440</td>\n",
       "      <td>2.0</td>\n",
       "      <td>62.00</td>\n",
       "      <td>3</td>\n",
       "    </tr>\n",
       "    <tr>\n",
       "      <th>3</th>\n",
       "      <td>Super built-up  Area</td>\n",
       "      <td>Ready To Move</td>\n",
       "      <td>Lingadheeranahalli</td>\n",
       "      <td>3 BHK</td>\n",
       "      <td>1521</td>\n",
       "      <td>3.0</td>\n",
       "      <td>95.00</td>\n",
       "      <td>3</td>\n",
       "    </tr>\n",
       "    <tr>\n",
       "      <th>4</th>\n",
       "      <td>Super built-up  Area</td>\n",
       "      <td>Ready To Move</td>\n",
       "      <td>Kothanur</td>\n",
       "      <td>2 BHK</td>\n",
       "      <td>1200</td>\n",
       "      <td>2.0</td>\n",
       "      <td>51.00</td>\n",
       "      <td>2</td>\n",
       "    </tr>\n",
       "  </tbody>\n",
       "</table>\n",
       "</div>"
      ],
      "text/plain": [
       "              area_type   availability                  location       size  \\\n",
       "0  Super built-up  Area         19-Dec  Electronic City Phase II      2 BHK   \n",
       "1            Plot  Area  Ready To Move          Chikka Tirupathi  4 Bedroom   \n",
       "2        Built-up  Area  Ready To Move               Uttarahalli      3 BHK   \n",
       "3  Super built-up  Area  Ready To Move        Lingadheeranahalli      3 BHK   \n",
       "4  Super built-up  Area  Ready To Move                  Kothanur      2 BHK   \n",
       "\n",
       "  total_sqft  bath   price  bhk  \n",
       "0       1056   2.0   39.07    2  \n",
       "1       2600   5.0  120.00    4  \n",
       "2       1440   2.0   62.00    3  \n",
       "3       1521   3.0   95.00    3  \n",
       "4       1200   2.0   51.00    2  "
      ]
     },
     "execution_count": 31,
     "metadata": {},
     "output_type": "execute_result"
    }
   ],
   "source": [
    "df.head()"
   ]
  },
  {
   "cell_type": "code",
   "execution_count": 32,
   "id": "6f0ddcd4",
   "metadata": {
    "execution": {
     "iopub.execute_input": "2024-01-22T13:38:16.151431Z",
     "iopub.status.busy": "2024-01-22T13:38:16.151030Z",
     "iopub.status.idle": "2024-01-22T13:38:16.170488Z",
     "shell.execute_reply": "2024-01-22T13:38:16.169500Z"
    },
    "id": "6f0ddcd4",
    "papermill": {
     "duration": 0.055526,
     "end_time": "2024-01-22T13:38:16.173050",
     "exception": false,
     "start_time": "2024-01-22T13:38:16.117524",
     "status": "completed"
    },
    "tags": []
   },
   "outputs": [],
   "source": [
    "def convert_range(x):\n",
    "    temp = x.split('-')\n",
    "    if len(temp)==2:\n",
    "        return (float(temp[0])+float(temp[1]))/2\n",
    "    try:\n",
    "        return float(x)\n",
    "    except:\n",
    "        return None\n",
    "\n",
    "df['total_sqft'] = df['total_sqft'].apply(convert_range)\n"
   ]
  },
  {
   "cell_type": "code",
   "execution_count": 33,
   "id": "4c1294b5",
   "metadata": {
    "execution": {
     "iopub.execute_input": "2024-01-22T13:38:16.238724Z",
     "iopub.status.busy": "2024-01-22T13:38:16.237531Z",
     "iopub.status.idle": "2024-01-22T13:38:16.252893Z",
     "shell.execute_reply": "2024-01-22T13:38:16.251692Z"
    },
    "id": "4c1294b5",
    "outputId": "73e956e0-5b1c-46e9-e73c-692277194944",
    "papermill": {
     "duration": 0.050872,
     "end_time": "2024-01-22T13:38:16.255595",
     "exception": false,
     "start_time": "2024-01-22T13:38:16.204723",
     "status": "completed"
    },
    "tags": []
   },
   "outputs": [
    {
     "data": {
      "text/plain": [
       "area_type        0\n",
       "availability     0\n",
       "location         0\n",
       "size             0\n",
       "total_sqft      46\n",
       "bath             0\n",
       "price            0\n",
       "bhk              0\n",
       "dtype: int64"
      ]
     },
     "execution_count": 33,
     "metadata": {},
     "output_type": "execute_result"
    }
   ],
   "source": [
    "df.isna().sum()"
   ]
  },
  {
   "cell_type": "code",
   "execution_count": 34,
   "id": "66b3099d",
   "metadata": {
    "execution": {
     "iopub.execute_input": "2024-01-22T13:38:16.329049Z",
     "iopub.status.busy": "2024-01-22T13:38:16.328191Z",
     "iopub.status.idle": "2024-01-22T13:38:16.347656Z",
     "shell.execute_reply": "2024-01-22T13:38:16.346101Z"
    },
    "id": "66b3099d",
    "papermill": {
     "duration": 0.058,
     "end_time": "2024-01-22T13:38:16.350455",
     "exception": false,
     "start_time": "2024-01-22T13:38:16.292455",
     "status": "completed"
    },
    "tags": []
   },
   "outputs": [],
   "source": [
    "df = df.dropna()"
   ]
  },
  {
   "cell_type": "code",
   "execution_count": 35,
   "id": "d50bde71",
   "metadata": {
    "execution": {
     "iopub.execute_input": "2024-01-22T13:38:16.421516Z",
     "iopub.status.busy": "2024-01-22T13:38:16.421105Z",
     "iopub.status.idle": "2024-01-22T13:38:16.436731Z",
     "shell.execute_reply": "2024-01-22T13:38:16.435849Z"
    },
    "id": "d50bde71",
    "outputId": "712018cd-4394-4918-d60a-8855d6d80e0a",
    "papermill": {
     "duration": 0.05525,
     "end_time": "2024-01-22T13:38:16.439262",
     "exception": false,
     "start_time": "2024-01-22T13:38:16.384012",
     "status": "completed"
    },
    "tags": []
   },
   "outputs": [
    {
     "data": {
      "text/plain": [
       "area_type       0\n",
       "availability    0\n",
       "location        0\n",
       "size            0\n",
       "total_sqft      0\n",
       "bath            0\n",
       "price           0\n",
       "bhk             0\n",
       "dtype: int64"
      ]
     },
     "execution_count": 35,
     "metadata": {},
     "output_type": "execute_result"
    }
   ],
   "source": [
    "df.isna().sum()"
   ]
  },
  {
   "cell_type": "markdown",
   "id": "0dea3202",
   "metadata": {
    "execution": {
     "iopub.execute_input": "2024-01-22T13:27:10.968263Z",
     "iopub.status.busy": "2024-01-22T13:27:10.967839Z",
     "iopub.status.idle": "2024-01-22T13:27:10.976429Z",
     "shell.execute_reply": "2024-01-22T13:27:10.974706Z",
     "shell.execute_reply.started": "2024-01-22T13:27:10.968229Z"
    },
    "id": "0dea3202",
    "papermill": {
     "duration": 0.03164,
     "end_time": "2024-01-22T13:38:16.502680",
     "exception": false,
     "start_time": "2024-01-22T13:38:16.471040",
     "status": "completed"
    },
    "tags": []
   },
   "source": [
    "### Feature Engineering"
   ]
  },
  {
   "cell_type": "markdown",
   "id": "8f038aa3",
   "metadata": {
    "id": "8f038aa3",
    "papermill": {
     "duration": 0.031909,
     "end_time": "2024-01-22T13:38:16.567686",
     "exception": false,
     "start_time": "2024-01-22T13:38:16.535777",
     "status": "completed"
    },
    "tags": []
   },
   "source": [
    "Let's make a feature with price and total_sqft which we would be using to remove outliers"
   ]
  },
  {
   "cell_type": "code",
   "execution_count": 36,
   "id": "602b6f5e",
   "metadata": {
    "execution": {
     "iopub.execute_input": "2024-01-22T13:38:16.633647Z",
     "iopub.status.busy": "2024-01-22T13:38:16.632906Z",
     "iopub.status.idle": "2024-01-22T13:38:16.638906Z",
     "shell.execute_reply": "2024-01-22T13:38:16.638079Z"
    },
    "id": "602b6f5e",
    "papermill": {
     "duration": 0.042033,
     "end_time": "2024-01-22T13:38:16.641287",
     "exception": false,
     "start_time": "2024-01-22T13:38:16.599254",
     "status": "completed"
    },
    "tags": []
   },
   "outputs": [],
   "source": [
    "df['price_per_sqft'] = df['price']*100000/df['total_sqft']"
   ]
  },
  {
   "cell_type": "code",
   "execution_count": 37,
   "id": "536a33be",
   "metadata": {
    "execution": {
     "iopub.execute_input": "2024-01-22T13:38:16.706537Z",
     "iopub.status.busy": "2024-01-22T13:38:16.705828Z",
     "iopub.status.idle": "2024-01-22T13:38:16.713865Z",
     "shell.execute_reply": "2024-01-22T13:38:16.713084Z"
    },
    "id": "536a33be",
    "outputId": "31601378-6969-4835-ab8b-d0fa9c02c823",
    "papermill": {
     "duration": 0.043363,
     "end_time": "2024-01-22T13:38:16.716116",
     "exception": false,
     "start_time": "2024-01-22T13:38:16.672753",
     "status": "completed"
    },
    "tags": []
   },
   "outputs": [
    {
     "data": {
      "text/plain": [
       "0         3699.810606\n",
       "1         4615.384615\n",
       "2         4305.555556\n",
       "3         6245.890861\n",
       "4         4250.000000\n",
       "             ...     \n",
       "13314     6530.612245\n",
       "13315     6689.834926\n",
       "13316    11111.111111\n",
       "13317     5258.545136\n",
       "13318    10407.336319\n",
       "Name: price_per_sqft, Length: 12745, dtype: float64"
      ]
     },
     "execution_count": 37,
     "metadata": {},
     "output_type": "execute_result"
    }
   ],
   "source": [
    "df['price_per_sqft']"
   ]
  },
  {
   "cell_type": "code",
   "execution_count": 38,
   "id": "80d6710b",
   "metadata": {
    "execution": {
     "iopub.execute_input": "2024-01-22T13:38:16.783239Z",
     "iopub.status.busy": "2024-01-22T13:38:16.782348Z",
     "iopub.status.idle": "2024-01-22T13:38:16.812940Z",
     "shell.execute_reply": "2024-01-22T13:38:16.812097Z"
    },
    "id": "80d6710b",
    "outputId": "e7a7263e-0c69-48a9-9bd7-a02a851cabfd",
    "papermill": {
     "duration": 0.067497,
     "end_time": "2024-01-22T13:38:16.815254",
     "exception": false,
     "start_time": "2024-01-22T13:38:16.747757",
     "status": "completed"
    },
    "tags": []
   },
   "outputs": [
    {
     "data": {
      "text/html": [
       "<div>\n",
       "<style scoped>\n",
       "    .dataframe tbody tr th:only-of-type {\n",
       "        vertical-align: middle;\n",
       "    }\n",
       "\n",
       "    .dataframe tbody tr th {\n",
       "        vertical-align: top;\n",
       "    }\n",
       "\n",
       "    .dataframe thead th {\n",
       "        text-align: right;\n",
       "    }\n",
       "</style>\n",
       "<table border=\"1\" class=\"dataframe\">\n",
       "  <thead>\n",
       "    <tr style=\"text-align: right;\">\n",
       "      <th></th>\n",
       "      <th>total_sqft</th>\n",
       "      <th>bath</th>\n",
       "      <th>price</th>\n",
       "      <th>bhk</th>\n",
       "      <th>price_per_sqft</th>\n",
       "    </tr>\n",
       "  </thead>\n",
       "  <tbody>\n",
       "    <tr>\n",
       "      <th>count</th>\n",
       "      <td>12745.00000</td>\n",
       "      <td>12745.000000</td>\n",
       "      <td>12745.000000</td>\n",
       "      <td>12745.000000</td>\n",
       "      <td>1.274500e+04</td>\n",
       "    </tr>\n",
       "    <tr>\n",
       "      <th>mean</th>\n",
       "      <td>1569.60368</td>\n",
       "      <td>2.703099</td>\n",
       "      <td>114.207350</td>\n",
       "      <td>2.815771</td>\n",
       "      <td>8.022896e+03</td>\n",
       "    </tr>\n",
       "    <tr>\n",
       "      <th>std</th>\n",
       "      <td>1259.83493</td>\n",
       "      <td>1.352340</td>\n",
       "      <td>151.591687</td>\n",
       "      <td>1.308425</td>\n",
       "      <td>1.086134e+05</td>\n",
       "    </tr>\n",
       "    <tr>\n",
       "      <th>min</th>\n",
       "      <td>1.00000</td>\n",
       "      <td>1.000000</td>\n",
       "      <td>8.000000</td>\n",
       "      <td>1.000000</td>\n",
       "      <td>2.678298e+02</td>\n",
       "    </tr>\n",
       "    <tr>\n",
       "      <th>25%</th>\n",
       "      <td>1100.00000</td>\n",
       "      <td>2.000000</td>\n",
       "      <td>50.000000</td>\n",
       "      <td>2.000000</td>\n",
       "      <td>4.298559e+03</td>\n",
       "    </tr>\n",
       "    <tr>\n",
       "      <th>50%</th>\n",
       "      <td>1280.00000</td>\n",
       "      <td>2.000000</td>\n",
       "      <td>73.000000</td>\n",
       "      <td>3.000000</td>\n",
       "      <td>5.482304e+03</td>\n",
       "    </tr>\n",
       "    <tr>\n",
       "      <th>75%</th>\n",
       "      <td>1691.00000</td>\n",
       "      <td>3.000000</td>\n",
       "      <td>120.000000</td>\n",
       "      <td>3.000000</td>\n",
       "      <td>7.398708e+03</td>\n",
       "    </tr>\n",
       "    <tr>\n",
       "      <th>max</th>\n",
       "      <td>52272.00000</td>\n",
       "      <td>40.000000</td>\n",
       "      <td>3600.000000</td>\n",
       "      <td>43.000000</td>\n",
       "      <td>1.200000e+07</td>\n",
       "    </tr>\n",
       "  </tbody>\n",
       "</table>\n",
       "</div>"
      ],
      "text/plain": [
       "        total_sqft          bath         price           bhk  price_per_sqft\n",
       "count  12745.00000  12745.000000  12745.000000  12745.000000    1.274500e+04\n",
       "mean    1569.60368      2.703099    114.207350      2.815771    8.022896e+03\n",
       "std     1259.83493      1.352340    151.591687      1.308425    1.086134e+05\n",
       "min        1.00000      1.000000      8.000000      1.000000    2.678298e+02\n",
       "25%     1100.00000      2.000000     50.000000      2.000000    4.298559e+03\n",
       "50%     1280.00000      2.000000     73.000000      3.000000    5.482304e+03\n",
       "75%     1691.00000      3.000000    120.000000      3.000000    7.398708e+03\n",
       "max    52272.00000     40.000000   3600.000000     43.000000    1.200000e+07"
      ]
     },
     "execution_count": 38,
     "metadata": {},
     "output_type": "execute_result"
    }
   ],
   "source": [
    "df.describe()"
   ]
  },
  {
   "cell_type": "code",
   "execution_count": 39,
   "id": "e062c3ba",
   "metadata": {
    "execution": {
     "iopub.execute_input": "2024-01-22T13:38:16.882660Z",
     "iopub.status.busy": "2024-01-22T13:38:16.881934Z",
     "iopub.status.idle": "2024-01-22T13:38:16.899749Z",
     "shell.execute_reply": "2024-01-22T13:38:16.898329Z"
    },
    "id": "e062c3ba",
    "outputId": "b38ab584-99f9-4d5d-bfb1-1b79cc6bd473",
    "papermill": {
     "duration": 0.054569,
     "end_time": "2024-01-22T13:38:16.902377",
     "exception": false,
     "start_time": "2024-01-22T13:38:16.847808",
     "status": "completed"
    },
    "tags": []
   },
   "outputs": [
    {
     "data": {
      "text/plain": [
       "location\n",
       "Whitefield                        522\n",
       "Sarjapur  Road                    380\n",
       "Electronic City                   289\n",
       "Kanakpura Road                    247\n",
       "Thanisandra                       231\n",
       "                                 ... \n",
       "1st Stage Radha Krishna Layout      1\n",
       "BEML Layout 5th stage               1\n",
       "Kannur                              1\n",
       "singapura paradise                  1\n",
       "Abshot Layout                       1\n",
       "Name: count, Length: 1288, dtype: int64"
      ]
     },
     "execution_count": 39,
     "metadata": {},
     "output_type": "execute_result"
    }
   ],
   "source": [
    "df.location = df.location.apply(lambda x : x.strip())\n",
    "loc_val = df['location'].value_counts()\n",
    "loc_val"
   ]
  },
  {
   "cell_type": "code",
   "execution_count": 40,
   "id": "f756ea1c",
   "metadata": {
    "execution": {
     "iopub.execute_input": "2024-01-22T13:38:16.968718Z",
     "iopub.status.busy": "2024-01-22T13:38:16.968241Z",
     "iopub.status.idle": "2024-01-22T13:38:16.974975Z",
     "shell.execute_reply": "2024-01-22T13:38:16.973318Z"
    },
    "id": "f756ea1c",
    "papermill": {
     "duration": 0.043008,
     "end_time": "2024-01-22T13:38:16.977681",
     "exception": false,
     "start_time": "2024-01-22T13:38:16.934673",
     "status": "completed"
    },
    "tags": []
   },
   "outputs": [],
   "source": [
    "to_be_others = loc_val[loc_val.values<=10].index"
   ]
  },
  {
   "cell_type": "code",
   "execution_count": 41,
   "id": "2ddac85b",
   "metadata": {
    "execution": {
     "iopub.execute_input": "2024-01-22T13:38:17.046512Z",
     "iopub.status.busy": "2024-01-22T13:38:17.046031Z",
     "iopub.status.idle": "2024-01-22T13:38:17.096355Z",
     "shell.execute_reply": "2024-01-22T13:38:17.094927Z"
    },
    "id": "2ddac85b",
    "outputId": "17da577d-91d7-427b-e4b9-7631fa33cf4d",
    "papermill": {
     "duration": 0.088629,
     "end_time": "2024-01-22T13:38:17.099578",
     "exception": false,
     "start_time": "2024-01-22T13:38:17.010949",
     "status": "completed"
    },
    "tags": []
   },
   "outputs": [
    {
     "data": {
      "text/plain": [
       "location\n",
       "others              2924\n",
       "Whitefield           522\n",
       "Sarjapur  Road       380\n",
       "Electronic City      289\n",
       "Kanakpura Road       247\n",
       "                    ... \n",
       "Doddaballapur         11\n",
       "LB Shastri Nagar      11\n",
       "Tindlu                11\n",
       "HAL 2nd Stage         11\n",
       "Banjara Layout        11\n",
       "Name: count, Length: 233, dtype: int64"
      ]
     },
     "execution_count": 41,
     "metadata": {},
     "output_type": "execute_result"
    }
   ],
   "source": [
    "df['location'] = df['location'].apply(lambda x: 'others' if x in to_be_others else x)\n",
    "\n",
    "df['location'].value_counts()"
   ]
  },
  {
   "cell_type": "code",
   "execution_count": 42,
   "id": "cdd850b9",
   "metadata": {
    "execution": {
     "iopub.execute_input": "2024-01-22T13:38:17.172993Z",
     "iopub.status.busy": "2024-01-22T13:38:17.172324Z",
     "iopub.status.idle": "2024-01-22T13:38:17.181681Z",
     "shell.execute_reply": "2024-01-22T13:38:17.180461Z"
    },
    "id": "cdd850b9",
    "outputId": "cc9d75e7-1a76-42bc-df31-35b3bd98f7a2",
    "papermill": {
     "duration": 0.05065,
     "end_time": "2024-01-22T13:38:17.184793",
     "exception": false,
     "start_time": "2024-01-22T13:38:17.134143",
     "status": "completed"
    },
    "tags": []
   },
   "outputs": [
    {
     "data": {
      "text/plain": [
       "Index(['Marsur', 'Thyagaraja Nagar', 'BEML Layout', 'Narayanapura',\n",
       "       'Gunjur Palya', 'Pattandur Agrahara', 'Naganathapura',\n",
       "       'Nagappa Reddy Layout', 'BTM 1st Stage', '1st Block Koramangala',\n",
       "       ...\n",
       "       'Maruthi Extension', 'Okalipura', 'Old Town', 'Vasantapura main road',\n",
       "       'Bapuji Layout', '1st Stage Radha Krishna Layout',\n",
       "       'BEML Layout 5th stage', 'Kannur', 'singapura paradise',\n",
       "       'Abshot Layout'],\n",
       "      dtype='object', name='location', length=1056)"
      ]
     },
     "execution_count": 42,
     "metadata": {},
     "output_type": "execute_result"
    }
   ],
   "source": [
    "to_be_others"
   ]
  },
  {
   "cell_type": "code",
   "execution_count": 43,
   "id": "af44e54b",
   "metadata": {
    "execution": {
     "iopub.execute_input": "2024-01-22T13:38:17.254373Z",
     "iopub.status.busy": "2024-01-22T13:38:17.253813Z",
     "iopub.status.idle": "2024-01-22T13:38:17.272120Z",
     "shell.execute_reply": "2024-01-22T13:38:17.270497Z"
    },
    "id": "af44e54b",
    "outputId": "15ad7d6e-8fd9-42ec-8898-58580c0f84e3",
    "papermill": {
     "duration": 0.055501,
     "end_time": "2024-01-22T13:38:17.274705",
     "exception": false,
     "start_time": "2024-01-22T13:38:17.219204",
     "status": "completed"
    },
    "tags": []
   },
   "outputs": [
    {
     "data": {
      "text/html": [
       "<div>\n",
       "<style scoped>\n",
       "    .dataframe tbody tr th:only-of-type {\n",
       "        vertical-align: middle;\n",
       "    }\n",
       "\n",
       "    .dataframe tbody tr th {\n",
       "        vertical-align: top;\n",
       "    }\n",
       "\n",
       "    .dataframe thead th {\n",
       "        text-align: right;\n",
       "    }\n",
       "</style>\n",
       "<table border=\"1\" class=\"dataframe\">\n",
       "  <thead>\n",
       "    <tr style=\"text-align: right;\">\n",
       "      <th></th>\n",
       "      <th>area_type</th>\n",
       "      <th>availability</th>\n",
       "      <th>location</th>\n",
       "      <th>size</th>\n",
       "      <th>total_sqft</th>\n",
       "      <th>bath</th>\n",
       "      <th>price</th>\n",
       "      <th>bhk</th>\n",
       "      <th>price_per_sqft</th>\n",
       "    </tr>\n",
       "  </thead>\n",
       "  <tbody>\n",
       "    <tr>\n",
       "      <th>0</th>\n",
       "      <td>Super built-up  Area</td>\n",
       "      <td>19-Dec</td>\n",
       "      <td>Electronic City Phase II</td>\n",
       "      <td>2 BHK</td>\n",
       "      <td>1056.0</td>\n",
       "      <td>2.0</td>\n",
       "      <td>39.07</td>\n",
       "      <td>2</td>\n",
       "      <td>3699.810606</td>\n",
       "    </tr>\n",
       "    <tr>\n",
       "      <th>1</th>\n",
       "      <td>Plot  Area</td>\n",
       "      <td>Ready To Move</td>\n",
       "      <td>Chikka Tirupathi</td>\n",
       "      <td>4 Bedroom</td>\n",
       "      <td>2600.0</td>\n",
       "      <td>5.0</td>\n",
       "      <td>120.00</td>\n",
       "      <td>4</td>\n",
       "      <td>4615.384615</td>\n",
       "    </tr>\n",
       "    <tr>\n",
       "      <th>2</th>\n",
       "      <td>Built-up  Area</td>\n",
       "      <td>Ready To Move</td>\n",
       "      <td>Uttarahalli</td>\n",
       "      <td>3 BHK</td>\n",
       "      <td>1440.0</td>\n",
       "      <td>2.0</td>\n",
       "      <td>62.00</td>\n",
       "      <td>3</td>\n",
       "      <td>4305.555556</td>\n",
       "    </tr>\n",
       "    <tr>\n",
       "      <th>3</th>\n",
       "      <td>Super built-up  Area</td>\n",
       "      <td>Ready To Move</td>\n",
       "      <td>Lingadheeranahalli</td>\n",
       "      <td>3 BHK</td>\n",
       "      <td>1521.0</td>\n",
       "      <td>3.0</td>\n",
       "      <td>95.00</td>\n",
       "      <td>3</td>\n",
       "      <td>6245.890861</td>\n",
       "    </tr>\n",
       "    <tr>\n",
       "      <th>4</th>\n",
       "      <td>Super built-up  Area</td>\n",
       "      <td>Ready To Move</td>\n",
       "      <td>Kothanur</td>\n",
       "      <td>2 BHK</td>\n",
       "      <td>1200.0</td>\n",
       "      <td>2.0</td>\n",
       "      <td>51.00</td>\n",
       "      <td>2</td>\n",
       "      <td>4250.000000</td>\n",
       "    </tr>\n",
       "  </tbody>\n",
       "</table>\n",
       "</div>"
      ],
      "text/plain": [
       "              area_type   availability                  location       size  \\\n",
       "0  Super built-up  Area         19-Dec  Electronic City Phase II      2 BHK   \n",
       "1            Plot  Area  Ready To Move          Chikka Tirupathi  4 Bedroom   \n",
       "2        Built-up  Area  Ready To Move               Uttarahalli      3 BHK   \n",
       "3  Super built-up  Area  Ready To Move        Lingadheeranahalli      3 BHK   \n",
       "4  Super built-up  Area  Ready To Move                  Kothanur      2 BHK   \n",
       "\n",
       "   total_sqft  bath   price  bhk  price_per_sqft  \n",
       "0      1056.0   2.0   39.07    2     3699.810606  \n",
       "1      2600.0   5.0  120.00    4     4615.384615  \n",
       "2      1440.0   2.0   62.00    3     4305.555556  \n",
       "3      1521.0   3.0   95.00    3     6245.890861  \n",
       "4      1200.0   2.0   51.00    2     4250.000000  "
      ]
     },
     "execution_count": 43,
     "metadata": {},
     "output_type": "execute_result"
    }
   ],
   "source": [
    "df.head()"
   ]
  },
  {
   "cell_type": "markdown",
   "id": "f4915954",
   "metadata": {
    "id": "f4915954",
    "papermill": {
     "duration": 0.033264,
     "end_time": "2024-01-22T13:38:17.342017",
     "exception": false,
     "start_time": "2024-01-22T13:38:17.308753",
     "status": "completed"
    },
    "tags": []
   },
   "source": [
    "### Outlier detection and removal"
   ]
  },
  {
   "cell_type": "code",
   "execution_count": 44,
   "id": "88246576",
   "metadata": {
    "execution": {
     "iopub.execute_input": "2024-01-22T13:38:17.413638Z",
     "iopub.status.busy": "2024-01-22T13:38:17.413240Z",
     "iopub.status.idle": "2024-01-22T13:38:17.443304Z",
     "shell.execute_reply": "2024-01-22T13:38:17.442357Z"
    },
    "id": "88246576",
    "outputId": "7d39efd1-7a24-42d6-ffa1-dc98c25fac88",
    "papermill": {
     "duration": 0.069838,
     "end_time": "2024-01-22T13:38:17.445934",
     "exception": false,
     "start_time": "2024-01-22T13:38:17.376096",
     "status": "completed"
    },
    "tags": []
   },
   "outputs": [
    {
     "data": {
      "text/html": [
       "<div>\n",
       "<style scoped>\n",
       "    .dataframe tbody tr th:only-of-type {\n",
       "        vertical-align: middle;\n",
       "    }\n",
       "\n",
       "    .dataframe tbody tr th {\n",
       "        vertical-align: top;\n",
       "    }\n",
       "\n",
       "    .dataframe thead th {\n",
       "        text-align: right;\n",
       "    }\n",
       "</style>\n",
       "<table border=\"1\" class=\"dataframe\">\n",
       "  <thead>\n",
       "    <tr style=\"text-align: right;\">\n",
       "      <th></th>\n",
       "      <th>total_sqft</th>\n",
       "      <th>bath</th>\n",
       "      <th>price</th>\n",
       "      <th>bhk</th>\n",
       "      <th>price_per_sqft</th>\n",
       "    </tr>\n",
       "  </thead>\n",
       "  <tbody>\n",
       "    <tr>\n",
       "      <th>count</th>\n",
       "      <td>12745.00000</td>\n",
       "      <td>12745.000000</td>\n",
       "      <td>12745.000000</td>\n",
       "      <td>12745.000000</td>\n",
       "      <td>1.274500e+04</td>\n",
       "    </tr>\n",
       "    <tr>\n",
       "      <th>mean</th>\n",
       "      <td>1569.60368</td>\n",
       "      <td>2.703099</td>\n",
       "      <td>114.207350</td>\n",
       "      <td>2.815771</td>\n",
       "      <td>8.022896e+03</td>\n",
       "    </tr>\n",
       "    <tr>\n",
       "      <th>std</th>\n",
       "      <td>1259.83493</td>\n",
       "      <td>1.352340</td>\n",
       "      <td>151.591687</td>\n",
       "      <td>1.308425</td>\n",
       "      <td>1.086134e+05</td>\n",
       "    </tr>\n",
       "    <tr>\n",
       "      <th>min</th>\n",
       "      <td>1.00000</td>\n",
       "      <td>1.000000</td>\n",
       "      <td>8.000000</td>\n",
       "      <td>1.000000</td>\n",
       "      <td>2.678298e+02</td>\n",
       "    </tr>\n",
       "    <tr>\n",
       "      <th>25%</th>\n",
       "      <td>1100.00000</td>\n",
       "      <td>2.000000</td>\n",
       "      <td>50.000000</td>\n",
       "      <td>2.000000</td>\n",
       "      <td>4.298559e+03</td>\n",
       "    </tr>\n",
       "    <tr>\n",
       "      <th>50%</th>\n",
       "      <td>1280.00000</td>\n",
       "      <td>2.000000</td>\n",
       "      <td>73.000000</td>\n",
       "      <td>3.000000</td>\n",
       "      <td>5.482304e+03</td>\n",
       "    </tr>\n",
       "    <tr>\n",
       "      <th>75%</th>\n",
       "      <td>1691.00000</td>\n",
       "      <td>3.000000</td>\n",
       "      <td>120.000000</td>\n",
       "      <td>3.000000</td>\n",
       "      <td>7.398708e+03</td>\n",
       "    </tr>\n",
       "    <tr>\n",
       "      <th>max</th>\n",
       "      <td>52272.00000</td>\n",
       "      <td>40.000000</td>\n",
       "      <td>3600.000000</td>\n",
       "      <td>43.000000</td>\n",
       "      <td>1.200000e+07</td>\n",
       "    </tr>\n",
       "  </tbody>\n",
       "</table>\n",
       "</div>"
      ],
      "text/plain": [
       "        total_sqft          bath         price           bhk  price_per_sqft\n",
       "count  12745.00000  12745.000000  12745.000000  12745.000000    1.274500e+04\n",
       "mean    1569.60368      2.703099    114.207350      2.815771    8.022896e+03\n",
       "std     1259.83493      1.352340    151.591687      1.308425    1.086134e+05\n",
       "min        1.00000      1.000000      8.000000      1.000000    2.678298e+02\n",
       "25%     1100.00000      2.000000     50.000000      2.000000    4.298559e+03\n",
       "50%     1280.00000      2.000000     73.000000      3.000000    5.482304e+03\n",
       "75%     1691.00000      3.000000    120.000000      3.000000    7.398708e+03\n",
       "max    52272.00000     40.000000   3600.000000     43.000000    1.200000e+07"
      ]
     },
     "execution_count": 44,
     "metadata": {},
     "output_type": "execute_result"
    }
   ],
   "source": [
    "df.describe()"
   ]
  },
  {
   "cell_type": "code",
   "execution_count": 45,
   "id": "9a4b9f60",
   "metadata": {
    "execution": {
     "iopub.execute_input": "2024-01-22T13:38:17.516988Z",
     "iopub.status.busy": "2024-01-22T13:38:17.516299Z",
     "iopub.status.idle": "2024-01-22T13:38:17.550948Z",
     "shell.execute_reply": "2024-01-22T13:38:17.549756Z"
    },
    "id": "9a4b9f60",
    "outputId": "c627cd7e-6773-4674-d1ae-89c2e4e10dc2",
    "papermill": {
     "duration": 0.074003,
     "end_time": "2024-01-22T13:38:17.553586",
     "exception": false,
     "start_time": "2024-01-22T13:38:17.479583",
     "status": "completed"
    },
    "tags": []
   },
   "outputs": [
    {
     "data": {
      "text/html": [
       "<div>\n",
       "<style scoped>\n",
       "    .dataframe tbody tr th:only-of-type {\n",
       "        vertical-align: middle;\n",
       "    }\n",
       "\n",
       "    .dataframe tbody tr th {\n",
       "        vertical-align: top;\n",
       "    }\n",
       "\n",
       "    .dataframe thead th {\n",
       "        text-align: right;\n",
       "    }\n",
       "</style>\n",
       "<table border=\"1\" class=\"dataframe\">\n",
       "  <thead>\n",
       "    <tr style=\"text-align: right;\">\n",
       "      <th></th>\n",
       "      <th>total_sqft</th>\n",
       "      <th>bath</th>\n",
       "      <th>price</th>\n",
       "      <th>bhk</th>\n",
       "      <th>price_per_sqft</th>\n",
       "    </tr>\n",
       "  </thead>\n",
       "  <tbody>\n",
       "    <tr>\n",
       "      <th>count</th>\n",
       "      <td>12011.000000</td>\n",
       "      <td>12011.000000</td>\n",
       "      <td>12011.000000</td>\n",
       "      <td>12011.000000</td>\n",
       "      <td>12011.000000</td>\n",
       "    </tr>\n",
       "    <tr>\n",
       "      <th>mean</th>\n",
       "      <td>1606.223870</td>\n",
       "      <td>2.571643</td>\n",
       "      <td>113.252382</td>\n",
       "      <td>2.660644</td>\n",
       "      <td>6363.396694</td>\n",
       "    </tr>\n",
       "    <tr>\n",
       "      <th>std</th>\n",
       "      <td>1283.874933</td>\n",
       "      <td>1.090077</td>\n",
       "      <td>154.815223</td>\n",
       "      <td>0.988055</td>\n",
       "      <td>4226.681217</td>\n",
       "    </tr>\n",
       "    <tr>\n",
       "      <th>min</th>\n",
       "      <td>300.000000</td>\n",
       "      <td>1.000000</td>\n",
       "      <td>8.440000</td>\n",
       "      <td>1.000000</td>\n",
       "      <td>267.829813</td>\n",
       "    </tr>\n",
       "    <tr>\n",
       "      <th>25%</th>\n",
       "      <td>1117.000000</td>\n",
       "      <td>2.000000</td>\n",
       "      <td>49.975000</td>\n",
       "      <td>2.000000</td>\n",
       "      <td>4250.000000</td>\n",
       "    </tr>\n",
       "    <tr>\n",
       "      <th>50%</th>\n",
       "      <td>1306.000000</td>\n",
       "      <td>2.000000</td>\n",
       "      <td>70.000000</td>\n",
       "      <td>3.000000</td>\n",
       "      <td>5330.490405</td>\n",
       "    </tr>\n",
       "    <tr>\n",
       "      <th>75%</th>\n",
       "      <td>1715.000000</td>\n",
       "      <td>3.000000</td>\n",
       "      <td>120.000000</td>\n",
       "      <td>3.000000</td>\n",
       "      <td>6967.569041</td>\n",
       "    </tr>\n",
       "    <tr>\n",
       "      <th>max</th>\n",
       "      <td>52272.000000</td>\n",
       "      <td>16.000000</td>\n",
       "      <td>3600.000000</td>\n",
       "      <td>16.000000</td>\n",
       "      <td>176470.588235</td>\n",
       "    </tr>\n",
       "  </tbody>\n",
       "</table>\n",
       "</div>"
      ],
      "text/plain": [
       "         total_sqft          bath         price           bhk  price_per_sqft\n",
       "count  12011.000000  12011.000000  12011.000000  12011.000000    12011.000000\n",
       "mean    1606.223870      2.571643    113.252382      2.660644     6363.396694\n",
       "std     1283.874933      1.090077    154.815223      0.988055     4226.681217\n",
       "min      300.000000      1.000000      8.440000      1.000000      267.829813\n",
       "25%     1117.000000      2.000000     49.975000      2.000000     4250.000000\n",
       "50%     1306.000000      2.000000     70.000000      3.000000     5330.490405\n",
       "75%     1715.000000      3.000000    120.000000      3.000000     6967.569041\n",
       "max    52272.000000     16.000000   3600.000000     16.000000   176470.588235"
      ]
     },
     "execution_count": 45,
     "metadata": {},
     "output_type": "execute_result"
    }
   ],
   "source": [
    "df = df[df['total_sqft']/df['bhk']>=300]\n",
    "df.describe()"
   ]
  },
  {
   "cell_type": "code",
   "execution_count": 46,
   "id": "840d9318",
   "metadata": {
    "execution": {
     "iopub.execute_input": "2024-01-22T13:38:17.623144Z",
     "iopub.status.busy": "2024-01-22T13:38:17.622531Z",
     "iopub.status.idle": "2024-01-22T13:38:17.641073Z",
     "shell.execute_reply": "2024-01-22T13:38:17.639966Z"
    },
    "id": "840d9318",
    "outputId": "aa4faa56-fe15-4845-85a9-4f6a49f1cd2b",
    "papermill": {
     "duration": 0.056129,
     "end_time": "2024-01-22T13:38:17.643205",
     "exception": false,
     "start_time": "2024-01-22T13:38:17.587076",
     "status": "completed"
    },
    "tags": []
   },
   "outputs": [
    {
     "data": {
      "text/html": [
       "<div>\n",
       "<style scoped>\n",
       "    .dataframe tbody tr th:only-of-type {\n",
       "        vertical-align: middle;\n",
       "    }\n",
       "\n",
       "    .dataframe tbody tr th {\n",
       "        vertical-align: top;\n",
       "    }\n",
       "\n",
       "    .dataframe thead th {\n",
       "        text-align: right;\n",
       "    }\n",
       "</style>\n",
       "<table border=\"1\" class=\"dataframe\">\n",
       "  <thead>\n",
       "    <tr style=\"text-align: right;\">\n",
       "      <th></th>\n",
       "      <th>area_type</th>\n",
       "      <th>availability</th>\n",
       "      <th>location</th>\n",
       "      <th>size</th>\n",
       "      <th>total_sqft</th>\n",
       "      <th>bath</th>\n",
       "      <th>price</th>\n",
       "      <th>bhk</th>\n",
       "      <th>price_per_sqft</th>\n",
       "    </tr>\n",
       "  </thead>\n",
       "  <tbody>\n",
       "    <tr>\n",
       "      <th>0</th>\n",
       "      <td>Super built-up  Area</td>\n",
       "      <td>19-Dec</td>\n",
       "      <td>Electronic City Phase II</td>\n",
       "      <td>2 BHK</td>\n",
       "      <td>1056.0</td>\n",
       "      <td>2.0</td>\n",
       "      <td>39.07</td>\n",
       "      <td>2</td>\n",
       "      <td>3699.810606</td>\n",
       "    </tr>\n",
       "    <tr>\n",
       "      <th>1</th>\n",
       "      <td>Plot  Area</td>\n",
       "      <td>Ready To Move</td>\n",
       "      <td>Chikka Tirupathi</td>\n",
       "      <td>4 Bedroom</td>\n",
       "      <td>2600.0</td>\n",
       "      <td>5.0</td>\n",
       "      <td>120.00</td>\n",
       "      <td>4</td>\n",
       "      <td>4615.384615</td>\n",
       "    </tr>\n",
       "    <tr>\n",
       "      <th>2</th>\n",
       "      <td>Built-up  Area</td>\n",
       "      <td>Ready To Move</td>\n",
       "      <td>Uttarahalli</td>\n",
       "      <td>3 BHK</td>\n",
       "      <td>1440.0</td>\n",
       "      <td>2.0</td>\n",
       "      <td>62.00</td>\n",
       "      <td>3</td>\n",
       "      <td>4305.555556</td>\n",
       "    </tr>\n",
       "    <tr>\n",
       "      <th>3</th>\n",
       "      <td>Super built-up  Area</td>\n",
       "      <td>Ready To Move</td>\n",
       "      <td>Lingadheeranahalli</td>\n",
       "      <td>3 BHK</td>\n",
       "      <td>1521.0</td>\n",
       "      <td>3.0</td>\n",
       "      <td>95.00</td>\n",
       "      <td>3</td>\n",
       "      <td>6245.890861</td>\n",
       "    </tr>\n",
       "    <tr>\n",
       "      <th>4</th>\n",
       "      <td>Super built-up  Area</td>\n",
       "      <td>Ready To Move</td>\n",
       "      <td>Kothanur</td>\n",
       "      <td>2 BHK</td>\n",
       "      <td>1200.0</td>\n",
       "      <td>2.0</td>\n",
       "      <td>51.00</td>\n",
       "      <td>2</td>\n",
       "      <td>4250.000000</td>\n",
       "    </tr>\n",
       "  </tbody>\n",
       "</table>\n",
       "</div>"
      ],
      "text/plain": [
       "              area_type   availability                  location       size  \\\n",
       "0  Super built-up  Area         19-Dec  Electronic City Phase II      2 BHK   \n",
       "1            Plot  Area  Ready To Move          Chikka Tirupathi  4 Bedroom   \n",
       "2        Built-up  Area  Ready To Move               Uttarahalli      3 BHK   \n",
       "3  Super built-up  Area  Ready To Move        Lingadheeranahalli      3 BHK   \n",
       "4  Super built-up  Area  Ready To Move                  Kothanur      2 BHK   \n",
       "\n",
       "   total_sqft  bath   price  bhk  price_per_sqft  \n",
       "0      1056.0   2.0   39.07    2     3699.810606  \n",
       "1      2600.0   5.0  120.00    4     4615.384615  \n",
       "2      1440.0   2.0   62.00    3     4305.555556  \n",
       "3      1521.0   3.0   95.00    3     6245.890861  \n",
       "4      1200.0   2.0   51.00    2     4250.000000  "
      ]
     },
     "execution_count": 46,
     "metadata": {},
     "output_type": "execute_result"
    }
   ],
   "source": [
    "df.head()"
   ]
  },
  {
   "cell_type": "code",
   "execution_count": 47,
   "id": "354e0003",
   "metadata": {
    "execution": {
     "iopub.execute_input": "2024-01-22T13:38:17.714031Z",
     "iopub.status.busy": "2024-01-22T13:38:17.713576Z",
     "iopub.status.idle": "2024-01-22T13:38:18.270115Z",
     "shell.execute_reply": "2024-01-22T13:38:18.268981Z"
    },
    "id": "354e0003",
    "outputId": "a27183ff-1a1a-49a8-dd37-190b522716f2",
    "papermill": {
     "duration": 0.596064,
     "end_time": "2024-01-22T13:38:18.272713",
     "exception": false,
     "start_time": "2024-01-22T13:38:17.676649",
     "status": "completed"
    },
    "tags": []
   },
   "outputs": [
    {
     "data": {
      "text/html": [
       "<div>\n",
       "<style scoped>\n",
       "    .dataframe tbody tr th:only-of-type {\n",
       "        vertical-align: middle;\n",
       "    }\n",
       "\n",
       "    .dataframe tbody tr th {\n",
       "        vertical-align: top;\n",
       "    }\n",
       "\n",
       "    .dataframe thead th {\n",
       "        text-align: right;\n",
       "    }\n",
       "</style>\n",
       "<table border=\"1\" class=\"dataframe\">\n",
       "  <thead>\n",
       "    <tr style=\"text-align: right;\">\n",
       "      <th></th>\n",
       "      <th>total_sqft</th>\n",
       "      <th>bath</th>\n",
       "      <th>price</th>\n",
       "      <th>bhk</th>\n",
       "      <th>price_per_sqft</th>\n",
       "    </tr>\n",
       "  </thead>\n",
       "  <tbody>\n",
       "    <tr>\n",
       "      <th>count</th>\n",
       "      <td>10665.000000</td>\n",
       "      <td>10665.000000</td>\n",
       "      <td>10665.000000</td>\n",
       "      <td>10665.000000</td>\n",
       "      <td>10665.000000</td>\n",
       "    </tr>\n",
       "    <tr>\n",
       "      <th>mean</th>\n",
       "      <td>1536.625724</td>\n",
       "      <td>2.476981</td>\n",
       "      <td>90.165037</td>\n",
       "      <td>2.580684</td>\n",
       "      <td>5568.990001</td>\n",
       "    </tr>\n",
       "    <tr>\n",
       "      <th>std</th>\n",
       "      <td>1239.533013</td>\n",
       "      <td>1.001621</td>\n",
       "      <td>85.894598</td>\n",
       "      <td>0.923703</td>\n",
       "      <td>2285.591819</td>\n",
       "    </tr>\n",
       "    <tr>\n",
       "      <th>min</th>\n",
       "      <td>300.000000</td>\n",
       "      <td>1.000000</td>\n",
       "      <td>8.440000</td>\n",
       "      <td>1.000000</td>\n",
       "      <td>267.829813</td>\n",
       "    </tr>\n",
       "    <tr>\n",
       "      <th>25%</th>\n",
       "      <td>1101.000000</td>\n",
       "      <td>2.000000</td>\n",
       "      <td>48.000000</td>\n",
       "      <td>2.000000</td>\n",
       "      <td>4121.750159</td>\n",
       "    </tr>\n",
       "    <tr>\n",
       "      <th>50%</th>\n",
       "      <td>1285.000000</td>\n",
       "      <td>2.000000</td>\n",
       "      <td>65.940000</td>\n",
       "      <td>2.000000</td>\n",
       "      <td>5084.745763</td>\n",
       "    </tr>\n",
       "    <tr>\n",
       "      <th>75%</th>\n",
       "      <td>1650.000000</td>\n",
       "      <td>3.000000</td>\n",
       "      <td>100.000000</td>\n",
       "      <td>3.000000</td>\n",
       "      <td>6370.370370</td>\n",
       "    </tr>\n",
       "    <tr>\n",
       "      <th>max</th>\n",
       "      <td>52272.000000</td>\n",
       "      <td>16.000000</td>\n",
       "      <td>2200.000000</td>\n",
       "      <td>16.000000</td>\n",
       "      <td>24509.803922</td>\n",
       "    </tr>\n",
       "  </tbody>\n",
       "</table>\n",
       "</div>"
      ],
      "text/plain": [
       "         total_sqft          bath         price           bhk  price_per_sqft\n",
       "count  10665.000000  10665.000000  10665.000000  10665.000000    10665.000000\n",
       "mean    1536.625724      2.476981     90.165037      2.580684     5568.990001\n",
       "std     1239.533013      1.001621     85.894598      0.923703     2285.591819\n",
       "min      300.000000      1.000000      8.440000      1.000000      267.829813\n",
       "25%     1101.000000      2.000000     48.000000      2.000000     4121.750159\n",
       "50%     1285.000000      2.000000     65.940000      2.000000     5084.745763\n",
       "75%     1650.000000      3.000000    100.000000      3.000000     6370.370370\n",
       "max    52272.000000     16.000000   2200.000000     16.000000    24509.803922"
      ]
     },
     "execution_count": 47,
     "metadata": {},
     "output_type": "execute_result"
    }
   ],
   "source": [
    "def remove_pps_outliers(df):\n",
    "    df_out = pd.DataFrame()\n",
    "    for key, val in df.groupby('location'):\n",
    "        m = np.mean(val.price_per_sqft)\n",
    "        std = np.std(val.price_per_sqft)\n",
    "\n",
    "        gen_df = val[(val.price_per_sqft>=std-m) & (val.price_per_sqft<=std+m)]\n",
    "        df_out = pd.concat([df_out,gen_df], ignore_index=True)\n",
    "\n",
    "    return df_out\n",
    "\n",
    "df = remove_pps_outliers(df)\n",
    "df.describe()"
   ]
  },
  {
   "cell_type": "code",
   "execution_count": 48,
   "id": "a2652573",
   "metadata": {
    "execution": {
     "iopub.execute_input": "2024-01-22T13:38:18.347281Z",
     "iopub.status.busy": "2024-01-22T13:38:18.346797Z",
     "iopub.status.idle": "2024-01-22T13:38:18.355043Z",
     "shell.execute_reply": "2024-01-22T13:38:18.353492Z"
    },
    "id": "a2652573",
    "papermill": {
     "duration": 0.049737,
     "end_time": "2024-01-22T13:38:18.357426",
     "exception": false,
     "start_time": "2024-01-22T13:38:18.307689",
     "status": "completed"
    },
    "tags": []
   },
   "outputs": [],
   "source": [
    "def plot_scatter_chart(df,location):\n",
    "    bhk2 = df[(df.location==location) & (df.bhk==2)]\n",
    "    bhk3 = df[(df.location==location) & (df.bhk==3)]\n",
    "    plt.scatter(bhk2.total_sqft,bhk2.price,color='blue',label='2 BHK', s=50)\n",
    "    plt.scatter(bhk3.total_sqft,bhk3.price,marker='+', color='green',label='3 BHK', s=50)\n",
    "    plt.xlabel(\"Total Square Feet Area\")\n",
    "    plt.ylabel(\"Price (Lakh Indian Rupees)\")\n",
    "    plt.title(location)\n",
    "    plt.legend()"
   ]
  },
  {
   "cell_type": "code",
   "execution_count": 49,
   "id": "5c3b5066",
   "metadata": {
    "execution": {
     "iopub.execute_input": "2024-01-22T13:38:18.431538Z",
     "iopub.status.busy": "2024-01-22T13:38:18.431108Z",
     "iopub.status.idle": "2024-01-22T13:38:18.884551Z",
     "shell.execute_reply": "2024-01-22T13:38:18.883208Z"
    },
    "id": "5c3b5066",
    "outputId": "0a32b3f3-50e1-4672-be64-8014c0e508d0",
    "papermill": {
     "duration": 0.494066,
     "end_time": "2024-01-22T13:38:18.887272",
     "exception": false,
     "start_time": "2024-01-22T13:38:18.393206",
     "status": "completed"
    },
    "tags": []
   },
   "outputs": [
    {
     "data": {
      "image/png": "[encoded data removed]",
      "text/plain": [
       "<Figure size 640x480 with 1 Axes>"
      ]
     },
     "metadata": {},
     "output_type": "display_data"
    }
   ],
   "source": [
    "plot_scatter_chart(df,\"Rajaji Nagar\")"
   ]
  },
  {
   "cell_type": "code",
   "execution_count": 50,
   "id": "e5ffcfbe",
   "metadata": {
    "execution": {
     "iopub.execute_input": "2024-01-22T13:38:18.960746Z",
     "iopub.status.busy": "2024-01-22T13:38:18.960329Z",
     "iopub.status.idle": "2024-01-22T13:38:18.968210Z",
     "shell.execute_reply": "2024-01-22T13:38:18.966568Z"
    },
    "id": "e5ffcfbe",
    "outputId": "4d20e175-31be-4ed9-c11a-09c74ad2ade9",
    "papermill": {
     "duration": 0.048025,
     "end_time": "2024-01-22T13:38:18.970528",
     "exception": false,
     "start_time": "2024-01-22T13:38:18.922503",
     "status": "completed"
    },
    "tags": []
   },
   "outputs": [
    {
     "data": {
      "text/plain": [
       "(10665, 9)"
      ]
     },
     "execution_count": 50,
     "metadata": {},
     "output_type": "execute_result"
    }
   ],
   "source": [
    "df.shape"
   ]
  },
  {
   "cell_type": "code",
   "execution_count": 51,
   "id": "561a8e07",
   "metadata": {
    "execution": {
     "iopub.execute_input": "2024-01-22T13:38:19.042394Z",
     "iopub.status.busy": "2024-01-22T13:38:19.041997Z",
     "iopub.status.idle": "2024-01-22T13:38:19.969517Z",
     "shell.execute_reply": "2024-01-22T13:38:19.968149Z"
    },
    "id": "561a8e07",
    "outputId": "ed881a72-2251-4a0f-e35b-160cf6b3b5ca",
    "papermill": {
     "duration": 0.96709,
     "end_time": "2024-01-22T13:38:19.972753",
     "exception": false,
     "start_time": "2024-01-22T13:38:19.005663",
     "status": "completed"
    },
    "tags": []
   },
   "outputs": [
    {
     "data": {
      "text/plain": [
       "(7736, 9)"
      ]
     },
     "execution_count": 51,
     "metadata": {},
     "output_type": "execute_result"
    }
   ],
   "source": [
    "def remove_bhk_outliers(df):\n",
    "    exclude_indices = np.array([])\n",
    "    for location, location_df in df.groupby('location'):\n",
    "        bhk_stats = {}\n",
    "        for bhk, bhk_df in location_df.groupby('bhk'):\n",
    "            bhk_stats[bhk] = {\n",
    "                'mean': np.mean(bhk_df.price_per_sqft),\n",
    "                'std': np.std(bhk_df.price_per_sqft),\n",
    "                'count': bhk_df.shape[0]\n",
    "            }\n",
    "        for bhk, bhk_df in location_df.groupby('bhk'):\n",
    "            stats = bhk_stats.get(bhk-1)\n",
    "            if stats and stats['count']>5:\n",
    "                exclude_indices = np.append(exclude_indices, bhk_df[bhk_df.price_per_sqft<(stats['mean'])].index.values)\n",
    "    return df.drop(exclude_indices,axis='index')\n",
    "df = remove_bhk_outliers(df)\n",
    "df.shape\n",
    "\n"
   ]
  },
  {
   "cell_type": "code",
   "execution_count": 52,
   "id": "e8412ea1",
   "metadata": {
    "execution": {
     "iopub.execute_input": "2024-01-22T13:38:20.049931Z",
     "iopub.status.busy": "2024-01-22T13:38:20.048806Z",
     "iopub.status.idle": "2024-01-22T13:38:20.540274Z",
     "shell.execute_reply": "2024-01-22T13:38:20.538973Z"
    },
    "id": "e8412ea1",
    "outputId": "3f5066dc-e504-499b-ef01-a2843080a2aa",
    "papermill": {
     "duration": 0.531315,
     "end_time": "2024-01-22T13:38:20.543573",
     "exception": false,
     "start_time": "2024-01-22T13:38:20.012258",
     "status": "completed"
    },
    "tags": []
   },
   "outputs": [
    {
     "data": {
      "image/png": "[encoded data removed]",
      "text/plain": [
       "<Figure size 640x480 with 1 Axes>"
      ]
     },
     "metadata": {},
     "output_type": "display_data"
    }
   ],
   "source": [
    "plot_scatter_chart(df,\"Rajaji Nagar\")"
   ]
  },
  {
   "cell_type": "code",
   "execution_count": 53,
   "id": "a70e7532",
   "metadata": {
    "execution": {
     "iopub.execute_input": "2024-01-22T13:38:20.620211Z",
     "iopub.status.busy": "2024-01-22T13:38:20.619778Z",
     "iopub.status.idle": "2024-01-22T13:38:20.637841Z",
     "shell.execute_reply": "2024-01-22T13:38:20.636699Z"
    },
    "id": "a70e7532",
    "outputId": "01dadc41-0aab-4dd3-fe42-6bf17338936e",
    "papermill": {
     "duration": 0.058847,
     "end_time": "2024-01-22T13:38:20.640097",
     "exception": false,
     "start_time": "2024-01-22T13:38:20.581250",
     "status": "completed"
    },
    "tags": []
   },
   "outputs": [
    {
     "data": {
      "text/html": [
       "<div>\n",
       "<style scoped>\n",
       "    .dataframe tbody tr th:only-of-type {\n",
       "        vertical-align: middle;\n",
       "    }\n",
       "\n",
       "    .dataframe tbody tr th {\n",
       "        vertical-align: top;\n",
       "    }\n",
       "\n",
       "    .dataframe thead th {\n",
       "        text-align: right;\n",
       "    }\n",
       "</style>\n",
       "<table border=\"1\" class=\"dataframe\">\n",
       "  <thead>\n",
       "    <tr style=\"text-align: right;\">\n",
       "      <th></th>\n",
       "      <th>area_type</th>\n",
       "      <th>availability</th>\n",
       "      <th>location</th>\n",
       "      <th>size</th>\n",
       "      <th>total_sqft</th>\n",
       "      <th>bath</th>\n",
       "      <th>price</th>\n",
       "      <th>bhk</th>\n",
       "      <th>price_per_sqft</th>\n",
       "    </tr>\n",
       "  </thead>\n",
       "  <tbody>\n",
       "    <tr>\n",
       "      <th>0</th>\n",
       "      <td>Super built-up  Area</td>\n",
       "      <td>20-May</td>\n",
       "      <td>1st Block Jayanagar</td>\n",
       "      <td>4 BHK</td>\n",
       "      <td>2850.0</td>\n",
       "      <td>4.0</td>\n",
       "      <td>428.0</td>\n",
       "      <td>4</td>\n",
       "      <td>15017.543860</td>\n",
       "    </tr>\n",
       "    <tr>\n",
       "      <th>1</th>\n",
       "      <td>Super built-up  Area</td>\n",
       "      <td>18-Jun</td>\n",
       "      <td>1st Block Jayanagar</td>\n",
       "      <td>3 BHK</td>\n",
       "      <td>1630.0</td>\n",
       "      <td>3.0</td>\n",
       "      <td>194.0</td>\n",
       "      <td>3</td>\n",
       "      <td>11901.840491</td>\n",
       "    </tr>\n",
       "    <tr>\n",
       "      <th>2</th>\n",
       "      <td>Super built-up  Area</td>\n",
       "      <td>Ready To Move</td>\n",
       "      <td>1st Block Jayanagar</td>\n",
       "      <td>3 BHK</td>\n",
       "      <td>1875.0</td>\n",
       "      <td>2.0</td>\n",
       "      <td>235.0</td>\n",
       "      <td>3</td>\n",
       "      <td>12533.333333</td>\n",
       "    </tr>\n",
       "    <tr>\n",
       "      <th>3</th>\n",
       "      <td>Super built-up  Area</td>\n",
       "      <td>Ready To Move</td>\n",
       "      <td>1st Block Jayanagar</td>\n",
       "      <td>2 BHK</td>\n",
       "      <td>1000.0</td>\n",
       "      <td>3.0</td>\n",
       "      <td>60.0</td>\n",
       "      <td>2</td>\n",
       "      <td>6000.000000</td>\n",
       "    </tr>\n",
       "    <tr>\n",
       "      <th>4</th>\n",
       "      <td>Built-up  Area</td>\n",
       "      <td>15-Dec</td>\n",
       "      <td>1st Block Jayanagar</td>\n",
       "      <td>3 BHK</td>\n",
       "      <td>1200.0</td>\n",
       "      <td>2.0</td>\n",
       "      <td>130.0</td>\n",
       "      <td>3</td>\n",
       "      <td>10833.333333</td>\n",
       "    </tr>\n",
       "  </tbody>\n",
       "</table>\n",
       "</div>"
      ],
      "text/plain": [
       "              area_type   availability             location   size  \\\n",
       "0  Super built-up  Area         20-May  1st Block Jayanagar  4 BHK   \n",
       "1  Super built-up  Area         18-Jun  1st Block Jayanagar  3 BHK   \n",
       "2  Super built-up  Area  Ready To Move  1st Block Jayanagar  3 BHK   \n",
       "3  Super built-up  Area  Ready To Move  1st Block Jayanagar  2 BHK   \n",
       "4        Built-up  Area         15-Dec  1st Block Jayanagar  3 BHK   \n",
       "\n",
       "   total_sqft  bath  price  bhk  price_per_sqft  \n",
       "0      2850.0   4.0  428.0    4    15017.543860  \n",
       "1      1630.0   3.0  194.0    3    11901.840491  \n",
       "2      1875.0   2.0  235.0    3    12533.333333  \n",
       "3      1000.0   3.0   60.0    2     6000.000000  \n",
       "4      1200.0   2.0  130.0    3    10833.333333  "
      ]
     },
     "execution_count": 53,
     "metadata": {},
     "output_type": "execute_result"
    }
   ],
   "source": [
    "df.head()"
   ]
  },
  {
   "cell_type": "markdown",
   "id": "b538907a",
   "metadata": {
    "id": "b538907a",
    "papermill": {
     "duration": 0.036938,
     "end_time": "2024-01-22T13:38:20.712740",
     "exception": false,
     "start_time": "2024-01-22T13:38:20.675802",
     "status": "completed"
    },
    "tags": []
   },
   "source": [
    "Let's drop unwanted columns - size, price_per_sqft"
   ]
  },
  {
   "cell_type": "code",
   "execution_count": 54,
   "id": "ef1453a9",
   "metadata": {
    "execution": {
     "iopub.execute_input": "2024-01-22T13:38:20.786448Z",
     "iopub.status.busy": "2024-01-22T13:38:20.785850Z",
     "iopub.status.idle": "2024-01-22T13:38:20.793260Z",
     "shell.execute_reply": "2024-01-22T13:38:20.791981Z"
    },
    "id": "ef1453a9",
    "papermill": {
     "duration": 0.04718,
     "end_time": "2024-01-22T13:38:20.795684",
     "exception": false,
     "start_time": "2024-01-22T13:38:20.748504",
     "status": "completed"
    },
    "tags": []
   },
   "outputs": [],
   "source": [
    "df.drop(['size', 'price_per_sqft'], axis=1, inplace= True)"
   ]
  },
  {
   "cell_type": "code",
   "execution_count": 55,
   "id": "2343683a",
   "metadata": {
    "execution": {
     "iopub.execute_input": "2024-01-22T13:38:20.870186Z",
     "iopub.status.busy": "2024-01-22T13:38:20.869756Z",
     "iopub.status.idle": "2024-01-22T13:38:20.888117Z",
     "shell.execute_reply": "2024-01-22T13:38:20.886668Z"
    },
    "id": "2343683a",
    "outputId": "3cb244ac-52e0-4d57-cd0b-4f95468ae646",
    "papermill": {
     "duration": 0.058799,
     "end_time": "2024-01-22T13:38:20.891149",
     "exception": false,
     "start_time": "2024-01-22T13:38:20.832350",
     "status": "completed"
    },
    "tags": []
   },
   "outputs": [
    {
     "data": {
      "text/html": [
       "<div>\n",
       "<style scoped>\n",
       "    .dataframe tbody tr th:only-of-type {\n",
       "        vertical-align: middle;\n",
       "    }\n",
       "\n",
       "    .dataframe tbody tr th {\n",
       "        vertical-align: top;\n",
       "    }\n",
       "\n",
       "    .dataframe thead th {\n",
       "        text-align: right;\n",
       "    }\n",
       "</style>\n",
       "<table border=\"1\" class=\"dataframe\">\n",
       "  <thead>\n",
       "    <tr style=\"text-align: right;\">\n",
       "      <th></th>\n",
       "      <th>area_type</th>\n",
       "      <th>availability</th>\n",
       "      <th>location</th>\n",
       "      <th>total_sqft</th>\n",
       "      <th>bath</th>\n",
       "      <th>price</th>\n",
       "      <th>bhk</th>\n",
       "    </tr>\n",
       "  </thead>\n",
       "  <tbody>\n",
       "    <tr>\n",
       "      <th>0</th>\n",
       "      <td>Super built-up  Area</td>\n",
       "      <td>20-May</td>\n",
       "      <td>1st Block Jayanagar</td>\n",
       "      <td>2850.0</td>\n",
       "      <td>4.0</td>\n",
       "      <td>428.0</td>\n",
       "      <td>4</td>\n",
       "    </tr>\n",
       "    <tr>\n",
       "      <th>1</th>\n",
       "      <td>Super built-up  Area</td>\n",
       "      <td>18-Jun</td>\n",
       "      <td>1st Block Jayanagar</td>\n",
       "      <td>1630.0</td>\n",
       "      <td>3.0</td>\n",
       "      <td>194.0</td>\n",
       "      <td>3</td>\n",
       "    </tr>\n",
       "    <tr>\n",
       "      <th>2</th>\n",
       "      <td>Super built-up  Area</td>\n",
       "      <td>Ready To Move</td>\n",
       "      <td>1st Block Jayanagar</td>\n",
       "      <td>1875.0</td>\n",
       "      <td>2.0</td>\n",
       "      <td>235.0</td>\n",
       "      <td>3</td>\n",
       "    </tr>\n",
       "    <tr>\n",
       "      <th>3</th>\n",
       "      <td>Super built-up  Area</td>\n",
       "      <td>Ready To Move</td>\n",
       "      <td>1st Block Jayanagar</td>\n",
       "      <td>1000.0</td>\n",
       "      <td>3.0</td>\n",
       "      <td>60.0</td>\n",
       "      <td>2</td>\n",
       "    </tr>\n",
       "    <tr>\n",
       "      <th>4</th>\n",
       "      <td>Built-up  Area</td>\n",
       "      <td>15-Dec</td>\n",
       "      <td>1st Block Jayanagar</td>\n",
       "      <td>1200.0</td>\n",
       "      <td>2.0</td>\n",
       "      <td>130.0</td>\n",
       "      <td>3</td>\n",
       "    </tr>\n",
       "  </tbody>\n",
       "</table>\n",
       "</div>"
      ],
      "text/plain": [
       "              area_type   availability             location  total_sqft  bath  \\\n",
       "0  Super built-up  Area         20-May  1st Block Jayanagar      2850.0   4.0   \n",
       "1  Super built-up  Area         18-Jun  1st Block Jayanagar      1630.0   3.0   \n",
       "2  Super built-up  Area  Ready To Move  1st Block Jayanagar      1875.0   2.0   \n",
       "3  Super built-up  Area  Ready To Move  1st Block Jayanagar      1000.0   3.0   \n",
       "4        Built-up  Area         15-Dec  1st Block Jayanagar      1200.0   2.0   \n",
       "\n",
       "   price  bhk  \n",
       "0  428.0    4  \n",
       "1  194.0    3  \n",
       "2  235.0    3  \n",
       "3   60.0    2  \n",
       "4  130.0    3  "
      ]
     },
     "execution_count": 55,
     "metadata": {},
     "output_type": "execute_result"
    }
   ],
   "source": [
    "df.head()"
   ]
  },
  {
   "cell_type": "code",
   "execution_count": 56,
   "id": "3fc56a18",
   "metadata": {
    "execution": {
     "iopub.execute_input": "2024-01-22T13:38:20.969090Z",
     "iopub.status.busy": "2024-01-22T13:38:20.968608Z",
     "iopub.status.idle": "2024-01-22T13:38:20.980174Z",
     "shell.execute_reply": "2024-01-22T13:38:20.978934Z"
    },
    "id": "3fc56a18",
    "outputId": "1abb5a85-8203-46b4-d4ee-968dd1d6b07f",
    "papermill": {
     "duration": 0.054262,
     "end_time": "2024-01-22T13:38:20.982737",
     "exception": false,
     "start_time": "2024-01-22T13:38:20.928475",
     "status": "completed"
    },
    "tags": []
   },
   "outputs": [
    {
     "data": {
      "text/plain": [
       "area_type\n",
       "Super built-up  Area    5567\n",
       "Built-up  Area          1478\n",
       "Plot  Area               644\n",
       "Carpet  Area              47\n",
       "Name: count, dtype: int64"
      ]
     },
     "execution_count": 56,
     "metadata": {},
     "output_type": "execute_result"
    }
   ],
   "source": [
    "df['area_type'].value_counts()"
   ]
  },
  {
   "cell_type": "code",
   "execution_count": 57,
   "id": "9189d1a6",
   "metadata": {
    "execution": {
     "iopub.execute_input": "2024-01-22T13:38:21.063213Z",
     "iopub.status.busy": "2024-01-22T13:38:21.062010Z",
     "iopub.status.idle": "2024-01-22T13:38:21.076334Z",
     "shell.execute_reply": "2024-01-22T13:38:21.075007Z"
    },
    "id": "9189d1a6",
    "papermill": {
     "duration": 0.057439,
     "end_time": "2024-01-22T13:38:21.079080",
     "exception": false,
     "start_time": "2024-01-22T13:38:21.021641",
     "status": "completed"
    },
    "tags": []
   },
   "outputs": [],
   "source": [
    "df['availability'] = df['availability'].apply(lambda x: 1 if x=='Ready To Move' else 0)"
   ]
  },
  {
   "cell_type": "code",
   "execution_count": 58,
   "id": "d4419d20",
   "metadata": {
    "execution": {
     "iopub.execute_input": "2024-01-22T13:38:21.155315Z",
     "iopub.status.busy": "2024-01-22T13:38:21.154844Z",
     "iopub.status.idle": "2024-01-22T13:38:21.187863Z",
     "shell.execute_reply": "2024-01-22T13:38:21.186043Z"
    },
    "id": "d4419d20",
    "outputId": "4c7b2e89-b9fc-4571-972c-52d93b5783b9",
    "papermill": {
     "duration": 0.074857,
     "end_time": "2024-01-22T13:38:21.190664",
     "exception": false,
     "start_time": "2024-01-22T13:38:21.115807",
     "status": "completed"
    },
    "tags": []
   },
   "outputs": [
    {
     "data": {
      "text/html": [
       "<div>\n",
       "<style scoped>\n",
       "    .dataframe tbody tr th:only-of-type {\n",
       "        vertical-align: middle;\n",
       "    }\n",
       "\n",
       "    .dataframe tbody tr th {\n",
       "        vertical-align: top;\n",
       "    }\n",
       "\n",
       "    .dataframe thead th {\n",
       "        text-align: right;\n",
       "    }\n",
       "</style>\n",
       "<table border=\"1\" class=\"dataframe\">\n",
       "  <thead>\n",
       "    <tr style=\"text-align: right;\">\n",
       "      <th></th>\n",
       "      <th>availability</th>\n",
       "      <th>total_sqft</th>\n",
       "      <th>bath</th>\n",
       "      <th>price</th>\n",
       "      <th>bhk</th>\n",
       "    </tr>\n",
       "  </thead>\n",
       "  <tbody>\n",
       "    <tr>\n",
       "      <th>count</th>\n",
       "      <td>7736.000000</td>\n",
       "      <td>7736.000000</td>\n",
       "      <td>7736.000000</td>\n",
       "      <td>7736.000000</td>\n",
       "      <td>7736.000000</td>\n",
       "    </tr>\n",
       "    <tr>\n",
       "      <th>mean</th>\n",
       "      <td>0.786065</td>\n",
       "      <td>1512.258062</td>\n",
       "      <td>2.464064</td>\n",
       "      <td>98.467665</td>\n",
       "      <td>2.516934</td>\n",
       "    </tr>\n",
       "    <tr>\n",
       "      <th>std</th>\n",
       "      <td>0.410108</td>\n",
       "      <td>925.215282</td>\n",
       "      <td>1.040735</td>\n",
       "      <td>93.176479</td>\n",
       "      <td>0.954950</td>\n",
       "    </tr>\n",
       "    <tr>\n",
       "      <th>min</th>\n",
       "      <td>0.000000</td>\n",
       "      <td>300.000000</td>\n",
       "      <td>1.000000</td>\n",
       "      <td>8.440000</td>\n",
       "      <td>1.000000</td>\n",
       "    </tr>\n",
       "    <tr>\n",
       "      <th>25%</th>\n",
       "      <td>1.000000</td>\n",
       "      <td>1095.750000</td>\n",
       "      <td>2.000000</td>\n",
       "      <td>50.000000</td>\n",
       "      <td>2.000000</td>\n",
       "    </tr>\n",
       "    <tr>\n",
       "      <th>50%</th>\n",
       "      <td>1.000000</td>\n",
       "      <td>1260.500000</td>\n",
       "      <td>2.000000</td>\n",
       "      <td>72.830000</td>\n",
       "      <td>2.000000</td>\n",
       "    </tr>\n",
       "    <tr>\n",
       "      <th>75%</th>\n",
       "      <td>1.000000</td>\n",
       "      <td>1685.000000</td>\n",
       "      <td>3.000000</td>\n",
       "      <td>110.000000</td>\n",
       "      <td>3.000000</td>\n",
       "    </tr>\n",
       "    <tr>\n",
       "      <th>max</th>\n",
       "      <td>1.000000</td>\n",
       "      <td>30000.000000</td>\n",
       "      <td>16.000000</td>\n",
       "      <td>2200.000000</td>\n",
       "      <td>16.000000</td>\n",
       "    </tr>\n",
       "  </tbody>\n",
       "</table>\n",
       "</div>"
      ],
      "text/plain": [
       "       availability    total_sqft         bath        price          bhk\n",
       "count   7736.000000   7736.000000  7736.000000  7736.000000  7736.000000\n",
       "mean       0.786065   1512.258062     2.464064    98.467665     2.516934\n",
       "std        0.410108    925.215282     1.040735    93.176479     0.954950\n",
       "min        0.000000    300.000000     1.000000     8.440000     1.000000\n",
       "25%        1.000000   1095.750000     2.000000    50.000000     2.000000\n",
       "50%        1.000000   1260.500000     2.000000    72.830000     2.000000\n",
       "75%        1.000000   1685.000000     3.000000   110.000000     3.000000\n",
       "max        1.000000  30000.000000    16.000000  2200.000000    16.000000"
      ]
     },
     "execution_count": 58,
     "metadata": {},
     "output_type": "execute_result"
    }
   ],
   "source": [
    "df.describe()"
   ]
  },
  {
   "cell_type": "code",
   "execution_count": 59,
   "id": "ca911210",
   "metadata": {
    "execution": {
     "iopub.execute_input": "2024-01-22T13:38:21.271048Z",
     "iopub.status.busy": "2024-01-22T13:38:21.270317Z",
     "iopub.status.idle": "2024-01-22T13:38:21.277551Z",
     "shell.execute_reply": "2024-01-22T13:38:21.276364Z"
    },
    "id": "ca911210",
    "outputId": "2c5f7cfc-ce71-4eb1-e4f2-bfec0dce3383",
    "papermill": {
     "duration": 0.050598,
     "end_time": "2024-01-22T13:38:21.279889",
     "exception": false,
     "start_time": "2024-01-22T13:38:21.229291",
     "status": "completed"
    },
    "tags": []
   },
   "outputs": [
    {
     "data": {
      "text/plain": [
       "(7736, 7)"
      ]
     },
     "execution_count": 59,
     "metadata": {},
     "output_type": "execute_result"
    }
   ],
   "source": [
    "df.shape"
   ]
  },
  {
   "cell_type": "code",
   "execution_count": 60,
   "id": "fbee4b34",
   "metadata": {
    "execution": {
     "iopub.execute_input": "2024-01-22T13:38:21.358140Z",
     "iopub.status.busy": "2024-01-22T13:38:21.357544Z",
     "iopub.status.idle": "2024-01-22T13:38:21.366321Z",
     "shell.execute_reply": "2024-01-22T13:38:21.364986Z"
    },
    "id": "fbee4b34",
    "papermill": {
     "duration": 0.049978,
     "end_time": "2024-01-22T13:38:21.369018",
     "exception": false,
     "start_time": "2024-01-22T13:38:21.319040",
     "status": "completed"
    },
    "tags": []
   },
   "outputs": [],
   "source": [
    "df = df[df.bath<df.bhk+2]"
   ]
  },
  {
   "cell_type": "markdown",
   "id": "2e0b2246",
   "metadata": {
    "id": "2e0b2246",
    "papermill": {
     "duration": 0.039465,
     "end_time": "2024-01-22T13:38:21.447165",
     "exception": false,
     "start_time": "2024-01-22T13:38:21.407700",
     "status": "completed"
    },
    "tags": []
   },
   "source": [
    "### Cleaned data"
   ]
  },
  {
   "cell_type": "code",
   "execution_count": 61,
   "id": "4f59e119",
   "metadata": {
    "execution": {
     "iopub.execute_input": "2024-01-22T13:38:21.522259Z",
     "iopub.status.busy": "2024-01-22T13:38:21.521847Z",
     "iopub.status.idle": "2024-01-22T13:38:21.538345Z",
     "shell.execute_reply": "2024-01-22T13:38:21.537255Z"
    },
    "id": "4f59e119",
    "outputId": "9e110adf-397f-43eb-cb33-4e4d40d8028a",
    "papermill": {
     "duration": 0.056872,
     "end_time": "2024-01-22T13:38:21.540615",
     "exception": false,
     "start_time": "2024-01-22T13:38:21.483743",
     "status": "completed"
    },
    "tags": []
   },
   "outputs": [
    {
     "data": {
      "text/html": [
       "<div>\n",
       "<style scoped>\n",
       "    .dataframe tbody tr th:only-of-type {\n",
       "        vertical-align: middle;\n",
       "    }\n",
       "\n",
       "    .dataframe tbody tr th {\n",
       "        vertical-align: top;\n",
       "    }\n",
       "\n",
       "    .dataframe thead th {\n",
       "        text-align: right;\n",
       "    }\n",
       "</style>\n",
       "<table border=\"1\" class=\"dataframe\">\n",
       "  <thead>\n",
       "    <tr style=\"text-align: right;\">\n",
       "      <th></th>\n",
       "      <th>area_type</th>\n",
       "      <th>availability</th>\n",
       "      <th>location</th>\n",
       "      <th>total_sqft</th>\n",
       "      <th>bath</th>\n",
       "      <th>price</th>\n",
       "      <th>bhk</th>\n",
       "    </tr>\n",
       "  </thead>\n",
       "  <tbody>\n",
       "    <tr>\n",
       "      <th>0</th>\n",
       "      <td>Super built-up  Area</td>\n",
       "      <td>0</td>\n",
       "      <td>1st Block Jayanagar</td>\n",
       "      <td>2850.0</td>\n",
       "      <td>4.0</td>\n",
       "      <td>428.0</td>\n",
       "      <td>4</td>\n",
       "    </tr>\n",
       "    <tr>\n",
       "      <th>1</th>\n",
       "      <td>Super built-up  Area</td>\n",
       "      <td>0</td>\n",
       "      <td>1st Block Jayanagar</td>\n",
       "      <td>1630.0</td>\n",
       "      <td>3.0</td>\n",
       "      <td>194.0</td>\n",
       "      <td>3</td>\n",
       "    </tr>\n",
       "    <tr>\n",
       "      <th>2</th>\n",
       "      <td>Super built-up  Area</td>\n",
       "      <td>1</td>\n",
       "      <td>1st Block Jayanagar</td>\n",
       "      <td>1875.0</td>\n",
       "      <td>2.0</td>\n",
       "      <td>235.0</td>\n",
       "      <td>3</td>\n",
       "    </tr>\n",
       "    <tr>\n",
       "      <th>3</th>\n",
       "      <td>Super built-up  Area</td>\n",
       "      <td>1</td>\n",
       "      <td>1st Block Jayanagar</td>\n",
       "      <td>1000.0</td>\n",
       "      <td>3.0</td>\n",
       "      <td>60.0</td>\n",
       "      <td>2</td>\n",
       "    </tr>\n",
       "    <tr>\n",
       "      <th>4</th>\n",
       "      <td>Built-up  Area</td>\n",
       "      <td>0</td>\n",
       "      <td>1st Block Jayanagar</td>\n",
       "      <td>1200.0</td>\n",
       "      <td>2.0</td>\n",
       "      <td>130.0</td>\n",
       "      <td>3</td>\n",
       "    </tr>\n",
       "  </tbody>\n",
       "</table>\n",
       "</div>"
      ],
      "text/plain": [
       "              area_type  availability             location  total_sqft  bath  \\\n",
       "0  Super built-up  Area             0  1st Block Jayanagar      2850.0   4.0   \n",
       "1  Super built-up  Area             0  1st Block Jayanagar      1630.0   3.0   \n",
       "2  Super built-up  Area             1  1st Block Jayanagar      1875.0   2.0   \n",
       "3  Super built-up  Area             1  1st Block Jayanagar      1000.0   3.0   \n",
       "4        Built-up  Area             0  1st Block Jayanagar      1200.0   2.0   \n",
       "\n",
       "   price  bhk  \n",
       "0  428.0    4  \n",
       "1  194.0    3  \n",
       "2  235.0    3  \n",
       "3   60.0    2  \n",
       "4  130.0    3  "
      ]
     },
     "execution_count": 61,
     "metadata": {},
     "output_type": "execute_result"
    }
   ],
   "source": [
    "df.head()"
   ]
  },
  {
   "cell_type": "code",
   "execution_count": 62,
   "id": "4b8ee39f",
   "metadata": {
    "execution": {
     "iopub.execute_input": "2024-01-22T13:38:21.617622Z",
     "iopub.status.busy": "2024-01-22T13:38:21.616891Z",
     "iopub.status.idle": "2024-01-22T13:38:21.645013Z",
     "shell.execute_reply": "2024-01-22T13:38:21.643823Z"
    },
    "id": "4b8ee39f",
    "outputId": "7fe79491-ac6d-4ad2-eba1-d6925e4a9c41",
    "papermill": {
     "duration": 0.070218,
     "end_time": "2024-01-22T13:38:21.647642",
     "exception": false,
     "start_time": "2024-01-22T13:38:21.577424",
     "status": "completed"
    },
    "tags": []
   },
   "outputs": [
    {
     "data": {
      "text/html": [
       "<div>\n",
       "<style scoped>\n",
       "    .dataframe tbody tr th:only-of-type {\n",
       "        vertical-align: middle;\n",
       "    }\n",
       "\n",
       "    .dataframe tbody tr th {\n",
       "        vertical-align: top;\n",
       "    }\n",
       "\n",
       "    .dataframe thead th {\n",
       "        text-align: right;\n",
       "    }\n",
       "</style>\n",
       "<table border=\"1\" class=\"dataframe\">\n",
       "  <thead>\n",
       "    <tr style=\"text-align: right;\">\n",
       "      <th></th>\n",
       "      <th>availability</th>\n",
       "      <th>total_sqft</th>\n",
       "      <th>bath</th>\n",
       "      <th>price</th>\n",
       "      <th>bhk</th>\n",
       "    </tr>\n",
       "  </thead>\n",
       "  <tbody>\n",
       "    <tr>\n",
       "      <th>count</th>\n",
       "      <td>7651.000000</td>\n",
       "      <td>7651.000000</td>\n",
       "      <td>7651.000000</td>\n",
       "      <td>7651.000000</td>\n",
       "      <td>7651.000000</td>\n",
       "    </tr>\n",
       "    <tr>\n",
       "      <th>mean</th>\n",
       "      <td>0.786172</td>\n",
       "      <td>1489.046531</td>\n",
       "      <td>2.424389</td>\n",
       "      <td>96.110947</td>\n",
       "      <td>2.500719</td>\n",
       "    </tr>\n",
       "    <tr>\n",
       "      <th>std</th>\n",
       "      <td>0.410034</td>\n",
       "      <td>884.916801</td>\n",
       "      <td>0.966566</td>\n",
       "      <td>87.856816</td>\n",
       "      <td>0.938971</td>\n",
       "    </tr>\n",
       "    <tr>\n",
       "      <th>min</th>\n",
       "      <td>0.000000</td>\n",
       "      <td>300.000000</td>\n",
       "      <td>1.000000</td>\n",
       "      <td>8.440000</td>\n",
       "      <td>1.000000</td>\n",
       "    </tr>\n",
       "    <tr>\n",
       "      <th>25%</th>\n",
       "      <td>1.000000</td>\n",
       "      <td>1091.500000</td>\n",
       "      <td>2.000000</td>\n",
       "      <td>50.000000</td>\n",
       "      <td>2.000000</td>\n",
       "    </tr>\n",
       "    <tr>\n",
       "      <th>50%</th>\n",
       "      <td>1.000000</td>\n",
       "      <td>1259.000000</td>\n",
       "      <td>2.000000</td>\n",
       "      <td>72.000000</td>\n",
       "      <td>2.000000</td>\n",
       "    </tr>\n",
       "    <tr>\n",
       "      <th>75%</th>\n",
       "      <td>1.000000</td>\n",
       "      <td>1665.000000</td>\n",
       "      <td>3.000000</td>\n",
       "      <td>110.000000</td>\n",
       "      <td>3.000000</td>\n",
       "    </tr>\n",
       "    <tr>\n",
       "      <th>max</th>\n",
       "      <td>1.000000</td>\n",
       "      <td>30000.000000</td>\n",
       "      <td>16.000000</td>\n",
       "      <td>2200.000000</td>\n",
       "      <td>16.000000</td>\n",
       "    </tr>\n",
       "  </tbody>\n",
       "</table>\n",
       "</div>"
      ],
      "text/plain": [
       "       availability    total_sqft         bath        price          bhk\n",
       "count   7651.000000   7651.000000  7651.000000  7651.000000  7651.000000\n",
       "mean       0.786172   1489.046531     2.424389    96.110947     2.500719\n",
       "std        0.410034    884.916801     0.966566    87.856816     0.938971\n",
       "min        0.000000    300.000000     1.000000     8.440000     1.000000\n",
       "25%        1.000000   1091.500000     2.000000    50.000000     2.000000\n",
       "50%        1.000000   1259.000000     2.000000    72.000000     2.000000\n",
       "75%        1.000000   1665.000000     3.000000   110.000000     3.000000\n",
       "max        1.000000  30000.000000    16.000000  2200.000000    16.000000"
      ]
     },
     "execution_count": 62,
     "metadata": {},
     "output_type": "execute_result"
    }
   ],
   "source": [
    "df.describe()"
   ]
  },
  {
   "cell_type": "code",
   "execution_count": 63,
   "id": "bc891b9e",
   "metadata": {
    "execution": {
     "iopub.execute_input": "2024-01-22T13:38:22.264545Z",
     "iopub.status.busy": "2024-01-22T13:38:22.264150Z",
     "iopub.status.idle": "2024-01-22T13:38:22.271821Z",
     "shell.execute_reply": "2024-01-22T13:38:22.270540Z"
    },
    "id": "bc891b9e",
    "papermill": {
     "duration": 0.050281,
     "end_time": "2024-01-22T13:38:22.274265",
     "exception": false,
     "start_time": "2024-01-22T13:38:22.223984",
     "status": "completed"
    },
    "tags": []
   },
   "outputs": [],
   "source": [
    "X = df.drop(columns = ['price'])\n",
    "y = df['price']"
   ]
  },
  {
   "cell_type": "markdown",
   "id": "36281806",
   "metadata": {
    "id": "36281806",
    "papermill": {
     "duration": 0.03719,
     "end_time": "2024-01-22T13:38:22.349296",
     "exception": false,
     "start_time": "2024-01-22T13:38:22.312106",
     "status": "completed"
    },
    "tags": []
   },
   "source": [
    "### Model building"
   ]
  },
  {
   "cell_type": "code",
   "execution_count": 64,
   "id": "a9720119",
   "metadata": {
    "execution": {
     "iopub.execute_input": "2024-01-22T13:38:22.427319Z",
     "iopub.status.busy": "2024-01-22T13:38:22.426926Z",
     "iopub.status.idle": "2024-01-22T13:38:22.435775Z",
     "shell.execute_reply": "2024-01-22T13:38:22.434944Z"
    },
    "id": "a9720119",
    "papermill": {
     "duration": 0.051252,
     "end_time": "2024-01-22T13:38:22.438082",
     "exception": false,
     "start_time": "2024-01-22T13:38:22.386830",
     "status": "completed"
    },
    "tags": []
   },
   "outputs": [],
   "source": [
    "X_train, X_test, y_train, y_test = train_test_split(X,y, test_size=0.2,random_state=0)"
   ]
  },
  {
   "cell_type": "code",
   "execution_count": 65,
   "id": "32c7c7fc",
   "metadata": {
    "execution": {
     "iopub.execute_input": "2024-01-22T13:38:22.514662Z",
     "iopub.status.busy": "2024-01-22T13:38:22.514282Z",
     "iopub.status.idle": "2024-01-22T13:38:22.519891Z",
     "shell.execute_reply": "2024-01-22T13:38:22.518811Z"
    },
    "id": "32c7c7fc",
    "outputId": "3b914241-2ba1-4936-cefa-90070ba73d30",
    "papermill": {
     "duration": 0.046994,
     "end_time": "2024-01-22T13:38:22.522497",
     "exception": false,
     "start_time": "2024-01-22T13:38:22.475503",
     "status": "completed"
    },
    "tags": []
   },
   "outputs": [
    {
     "name": "stdout",
     "output_type": "stream",
     "text": [
      "(6120, 6)\n",
      "(1531, 6)\n"
     ]
    }
   ],
   "source": [
    "print(X_train.shape)\n",
    "print(X_test.shape)"
   ]
  },
  {
   "cell_type": "code",
   "execution_count": 66,
   "id": "fa6ebd65",
   "metadata": {
    "execution": {
     "iopub.execute_input": "2024-01-22T13:38:22.600851Z",
     "iopub.status.busy": "2024-01-22T13:38:22.599530Z",
     "iopub.status.idle": "2024-01-22T13:38:22.619424Z",
     "shell.execute_reply": "2024-01-22T13:38:22.618272Z"
    },
    "id": "fa6ebd65",
    "outputId": "7c0a9fca-a8b1-47c6-fb48-096eaea33c20",
    "papermill": {
     "duration": 0.061569,
     "end_time": "2024-01-22T13:38:22.622020",
     "exception": false,
     "start_time": "2024-01-22T13:38:22.560451",
     "status": "completed"
    },
    "tags": []
   },
   "outputs": [
    {
     "data": {
      "text/html": [
       "<div>\n",
       "<style scoped>\n",
       "    .dataframe tbody tr th:only-of-type {\n",
       "        vertical-align: middle;\n",
       "    }\n",
       "\n",
       "    .dataframe tbody tr th {\n",
       "        vertical-align: top;\n",
       "    }\n",
       "\n",
       "    .dataframe thead th {\n",
       "        text-align: right;\n",
       "    }\n",
       "</style>\n",
       "<table border=\"1\" class=\"dataframe\">\n",
       "  <thead>\n",
       "    <tr style=\"text-align: right;\">\n",
       "      <th></th>\n",
       "      <th>area_type</th>\n",
       "      <th>availability</th>\n",
       "      <th>location</th>\n",
       "      <th>total_sqft</th>\n",
       "      <th>bath</th>\n",
       "      <th>bhk</th>\n",
       "    </tr>\n",
       "  </thead>\n",
       "  <tbody>\n",
       "    <tr>\n",
       "      <th>9499</th>\n",
       "      <td>Plot  Area</td>\n",
       "      <td>1</td>\n",
       "      <td>others</td>\n",
       "      <td>1200.0</td>\n",
       "      <td>4.0</td>\n",
       "      <td>4</td>\n",
       "    </tr>\n",
       "    <tr>\n",
       "      <th>7195</th>\n",
       "      <td>Super built-up  Area</td>\n",
       "      <td>1</td>\n",
       "      <td>Tumkur Road</td>\n",
       "      <td>1066.0</td>\n",
       "      <td>2.0</td>\n",
       "      <td>2</td>\n",
       "    </tr>\n",
       "    <tr>\n",
       "      <th>4562</th>\n",
       "      <td>Super built-up  Area</td>\n",
       "      <td>1</td>\n",
       "      <td>Kenchenahalli</td>\n",
       "      <td>1280.0</td>\n",
       "      <td>2.0</td>\n",
       "      <td>3</td>\n",
       "    </tr>\n",
       "    <tr>\n",
       "      <th>1321</th>\n",
       "      <td>Super built-up  Area</td>\n",
       "      <td>0</td>\n",
       "      <td>Bommanahalli</td>\n",
       "      <td>1250.0</td>\n",
       "      <td>3.0</td>\n",
       "      <td>3</td>\n",
       "    </tr>\n",
       "    <tr>\n",
       "      <th>4612</th>\n",
       "      <td>Super built-up  Area</td>\n",
       "      <td>0</td>\n",
       "      <td>Kengeri</td>\n",
       "      <td>416.0</td>\n",
       "      <td>1.0</td>\n",
       "      <td>1</td>\n",
       "    </tr>\n",
       "    <tr>\n",
       "      <th>...</th>\n",
       "      <td>...</td>\n",
       "      <td>...</td>\n",
       "      <td>...</td>\n",
       "      <td>...</td>\n",
       "      <td>...</td>\n",
       "      <td>...</td>\n",
       "    </tr>\n",
       "    <tr>\n",
       "      <th>6050</th>\n",
       "      <td>Super built-up  Area</td>\n",
       "      <td>1</td>\n",
       "      <td>Rajaji Nagar</td>\n",
       "      <td>2409.0</td>\n",
       "      <td>3.0</td>\n",
       "      <td>3</td>\n",
       "    </tr>\n",
       "    <tr>\n",
       "      <th>3972</th>\n",
       "      <td>Super built-up  Area</td>\n",
       "      <td>0</td>\n",
       "      <td>Kadugodi</td>\n",
       "      <td>1314.0</td>\n",
       "      <td>2.0</td>\n",
       "      <td>2</td>\n",
       "    </tr>\n",
       "    <tr>\n",
       "      <th>1979</th>\n",
       "      <td>Super built-up  Area</td>\n",
       "      <td>1</td>\n",
       "      <td>Electronic City</td>\n",
       "      <td>1070.0</td>\n",
       "      <td>2.0</td>\n",
       "      <td>2</td>\n",
       "    </tr>\n",
       "    <tr>\n",
       "      <th>3189</th>\n",
       "      <td>Super built-up  Area</td>\n",
       "      <td>0</td>\n",
       "      <td>Hennur Road</td>\n",
       "      <td>1232.0</td>\n",
       "      <td>2.0</td>\n",
       "      <td>2</td>\n",
       "    </tr>\n",
       "    <tr>\n",
       "      <th>3342</th>\n",
       "      <td>Super built-up  Area</td>\n",
       "      <td>1</td>\n",
       "      <td>Hormavu</td>\n",
       "      <td>1175.0</td>\n",
       "      <td>2.0</td>\n",
       "      <td>2</td>\n",
       "    </tr>\n",
       "  </tbody>\n",
       "</table>\n",
       "<p>6120 rows × 6 columns</p>\n",
       "</div>"
      ],
      "text/plain": [
       "                 area_type  availability         location  total_sqft  bath  \\\n",
       "9499            Plot  Area             1           others      1200.0   4.0   \n",
       "7195  Super built-up  Area             1      Tumkur Road      1066.0   2.0   \n",
       "4562  Super built-up  Area             1    Kenchenahalli      1280.0   2.0   \n",
       "1321  Super built-up  Area             0     Bommanahalli      1250.0   3.0   \n",
       "4612  Super built-up  Area             0          Kengeri       416.0   1.0   \n",
       "...                    ...           ...              ...         ...   ...   \n",
       "6050  Super built-up  Area             1     Rajaji Nagar      2409.0   3.0   \n",
       "3972  Super built-up  Area             0         Kadugodi      1314.0   2.0   \n",
       "1979  Super built-up  Area             1  Electronic City      1070.0   2.0   \n",
       "3189  Super built-up  Area             0      Hennur Road      1232.0   2.0   \n",
       "3342  Super built-up  Area             1          Hormavu      1175.0   2.0   \n",
       "\n",
       "      bhk  \n",
       "9499    4  \n",
       "7195    2  \n",
       "4562    3  \n",
       "1321    3  \n",
       "4612    1  \n",
       "...   ...  \n",
       "6050    3  \n",
       "3972    2  \n",
       "1979    2  \n",
       "3189    2  \n",
       "3342    2  \n",
       "\n",
       "[6120 rows x 6 columns]"
      ]
     },
     "execution_count": 66,
     "metadata": {},
     "output_type": "execute_result"
    }
   ],
   "source": [
    "X_train"
   ]
  },
  {
   "cell_type": "markdown",
   "id": "13f7227c",
   "metadata": {
    "id": "13f7227c",
    "papermill": {
     "duration": 0.038009,
     "end_time": "2024-01-22T13:40:14.300147",
     "exception": false,
     "start_time": "2024-01-22T13:40:14.262138",
     "status": "completed"
    },
    "tags": []
   },
   "source": [
    "### SVR"
   ]
  },
  {
   "cell_type": "code",
   "execution_count": 67,
   "id": "cd0e97e3",
   "metadata": {
    "execution": {
     "iopub.execute_input": "2024-01-22T13:40:14.379742Z",
     "iopub.status.busy": "2024-01-22T13:40:14.379095Z",
     "iopub.status.idle": "2024-01-22T13:40:24.229579Z",
     "shell.execute_reply": "2024-01-22T13:40:24.228469Z"
    },
    "id": "cd0e97e3",
    "outputId": "301bf47d-15c2-4495-c368-193d0d622093",
    "papermill": {
     "duration": 9.893513,
     "end_time": "2024-01-22T13:40:24.232291",
     "exception": false,
     "start_time": "2024-01-22T13:40:14.338778",
     "status": "completed"
    },
    "scrolled": false,
    "tags": []
   },
   "outputs": [
    {
     "name": "stdout",
     "output_type": "stream",
     "text": [
      "R2 score  0.31486826625338016\n",
      "MAE score  31.353958981535918\n"
     ]
    }
   ],
   "source": [
    "step1 = ColumnTransformer(transformers=[\n",
    "                         ('col_tnf', OneHotEncoder(sparse=False, drop='first'),[0,2])\n",
    "                 ], remainder='passthrough')\n",
    "step2 = StandardScaler()\n",
    "step3 = SVR()\n",
    "\n",
    "pipe = Pipeline([\n",
    "    ('step1', step1),\n",
    "    ('step2', step2),\n",
    "    ('step3', step3)\n",
    "])\n",
    "\n",
    "pipe.fit(X_train, y_train)\n",
    "y_pred = pipe.predict(X_test)\n",
    "print(\"R2 score \", r2_score(y_test, y_pred))\n",
    "print(\"MAE score \", mean_absolute_error(y_test, y_pred))"
   ]
  },
  {
   "cell_type": "code",
   "execution_count": null,
   "id": "3381ce4c",
   "metadata": {
    "id": "3381ce4c"
   },
   "outputs": [],
   "source": []
  },
  {
   "cell_type": "code",
   "execution_count": null,
   "id": "1074fcb2",
   "metadata": {},
   "outputs": [],
   "source": []
  }
 ],
 "metadata": {
  "colab": {
   "provenance": []
  },
  "kaggle": {
   "accelerator": "none",
   "dataSources": [
    {
     "datasetId": 20710,
     "sourceId": 26737,
     "sourceType": "datasetVersion"
    }
   ],
   "dockerImageVersionId": 30635,
   "isGpuEnabled": false,
   "isInternetEnabled": true,
   "language": "python",
   "sourceType": "notebook"
  },
  "kernelspec": {
   "display_name": "Python 3 (ipykernel)",
   "language": "python",
   "name": "python3"
  },
  "language_info": {
   "codemirror_mode": {
    "name": "ipython",
    "version": 3
   },
   "file_extension": ".py",
   "mimetype": "text/x-python",
   "name": "python",
   "nbconvert_exporter": "python",
   "pygments_lexer": "ipython3",
   "version": "3.10.13"
  },
  "papermill": {
   "default_parameters": {},
   "duration": 159.708874,
   "end_time": "2024-01-22T13:40:45.465080",
   "environment_variables": {},
   "exception": null,
   "input_path": "__notebook__.ipynb",
   "output_path": "__notebook__.ipynb",
   "parameters": {},
   "start_time": "2024-01-22T13:38:05.756206",
   "version": "2.4.0"
  }
 },
 "nbformat": 4,
 "nbformat_minor": 5
}
