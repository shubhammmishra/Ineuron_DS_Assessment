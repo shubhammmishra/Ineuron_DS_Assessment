{
 "cells": [
  {
   "cell_type": "code",
   "execution_count": 102,
   "id": "d2c3b9f7",
   "metadata": {},
   "outputs": [],
   "source": [
    "from sklearn.model_selection import ShuffleSplit, train_test_split\n",
    "from sklearn.tree import DecisionTreeClassifier\n",
    "from sklearn.metrics import accuracy_score\n",
    "import pandas as pd\n",
    "import numpy as np"
   ]
  },
  {
   "cell_type": "code",
   "execution_count": 103,
   "id": "350d3c34",
   "metadata": {},
   "outputs": [],
   "source": [
    "# Load the dataset (assuming it's already been loaded into df)\n",
    "df = pd.read_csv('winequality-red.csv')\n"
   ]
  },
  {
   "cell_type": "code",
   "execution_count": 104,
   "id": "f6246b1f",
   "metadata": {},
   "outputs": [],
   "source": [
    "# Prepare the data\n",
    "X = df.drop('quality', axis=1).values  # Features\n",
    "y = df['quality'].values  # Target variable"
   ]
  },
  {
   "cell_type": "code",
   "execution_count": 105,
   "id": "d3893f8a",
   "metadata": {},
   "outputs": [],
   "source": [
    "# Split the data into training and testing sets\n",
    "X_train, X_test, y_train, y_test = train_test_split(X, y, test_size=0.2, random_state=42)"
   ]
  },
  {
   "cell_type": "code",
   "execution_count": 106,
   "id": "e19c94ba",
   "metadata": {},
   "outputs": [],
   "source": [
    "# Create 10 subsets using ShuffleSplit\n",
    "ss = ShuffleSplit(n_splits=10, test_size=0.2, random_state=42)\n",
    "trees = []\n",
    "scores = []"
   ]
  },
  {
   "cell_type": "code",
   "execution_count": 93,
   "id": "c4f5f17e",
   "metadata": {},
   "outputs": [],
   "source": [
    "# Train 1 decision tree on each subset\n",
    "for train_index, _ in ss.split(X_train):\n",
    "    X_subset, y_subset = X_train[train_index], y_train[train_index]\n",
    "    clf = DecisionTreeClassifier(max_depth=10, min_samples_split=5, random_state=42)\n",
    "    clf.fit(X_subset, y_subset)\n",
    "    trees.append(clf)"
   ]
  },
  {
   "cell_type": "code",
   "execution_count": 94,
   "id": "b21d994d",
   "metadata": {},
   "outputs": [],
   "source": [
    "# Evaluate all the trees on the test dataset\n",
    "for tree in trees:\n",
    "    y_pred = tree.predict(X_test)\n",
    "    score = accuracy_score(y_test, y_pred)\n",
    "    scores.append(score)"
   ]
  },
  {
   "cell_type": "code",
   "execution_count": 95,
   "id": "e7b9a865",
   "metadata": {},
   "outputs": [
    {
     "name": "stdout",
     "output_type": "stream",
     "text": [
      "Average accuracy of the trees: 0.5540625\n"
     ]
    }
   ],
   "source": [
    "# Calculate the average score of the trees\n",
    "average_score = np.mean(scores)\n",
    "print(f'Average accuracy of the trees: {average_score}')\n"
   ]
  },
  {
   "cell_type": "code",
   "execution_count": 96,
   "id": "acb99309",
   "metadata": {},
   "outputs": [
    {
     "name": "stdout",
     "output_type": "stream",
     "text": [
      "Accuracy of the single decision tree: 0.540625\n"
     ]
    }
   ],
   "source": [
    "# Compare with the single decision tree model (assuming it's named clf_single and has been trained previously)\n",
    "y_pred_single = clf.predict(X_test)\n",
    "score_single = accuracy_score(y_test, y_pred_single)\n",
    "print(f'Accuracy of the single decision tree: {score_single}')\n"
   ]
  },
  {
   "cell_type": "code",
   "execution_count": null,
   "id": "02db0119",
   "metadata": {},
   "outputs": [],
   "source": []
  },
  {
   "cell_type": "code",
   "execution_count": null,
   "id": "767a2a3a",
   "metadata": {},
   "outputs": [],
   "source": []
  }
 ],
 "metadata": {
  "kernelspec": {
   "display_name": "Python 3 (ipykernel)",
   "language": "python",
   "name": "python3"
  },
  "language_info": {
   "codemirror_mode": {
    "name": "ipython",
    "version": 3
   },
   "file_extension": ".py",
   "mimetype": "text/x-python",
   "name": "python",
   "nbconvert_exporter": "python",
   "pygments_lexer": "ipython3",
   "version": "3.10.13"
  }
 },
 "nbformat": 4,
 "nbformat_minor": 5
}
